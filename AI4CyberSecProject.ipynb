{
 "cells": [
  {
   "cell_type": "markdown",
   "id": "c06eed63",
   "metadata": {},
   "source": [
    "# Initial considerations:\n",
    "- Deleting duplicate records: not necessary as all duplicate records have been removed in NLS-KDD\n",
    "- In the DB there are no attributes with NULL values, so we don't have to fill in the data (Data Integration process).\n",
    "\n",
    "## Steps performed:\n",
    "- import the necessary libraries\n",
    "- import the dataset\n",
    "- the distribution of the type of attachments in test set and training set is shown\n",
    "\n",
    "\n",
    "- Fill missing data in the \"service\" attribute\n",
    "- Data transformation from nominal to binary\n",
    "\n",
    "\n",
    "- mapping labels in 5 categories (Dos, Probe, R2L, U2R, Normal)\n",
    "\n",
    "\n",
    "- Adjust values\n",
    "- Remove unnecessary attributes for analysis\n",
    "- Normalization of values\n",
    "\n",
    "\n",
    "- Classification\n",
    "- Pipeline with PCA feature selection with use of RF CLASSIFIER"
   ]
  },
  {
   "cell_type": "markdown",
   "id": "c95fa693",
   "metadata": {},
   "source": [
    "# 1 - Import library for computation"
   ]
  },
  {
   "cell_type": "code",
   "execution_count": 190,
   "id": "35a981ff",
   "metadata": {},
   "outputs": [],
   "source": [
    "import os\n",
    "import time\n",
    "import pandas as pd\n",
    "import numpy as np\n",
    "from collections import Counter\n",
    "from numpy import where\n",
    "\n",
    "import matplotlib.pyplot as plt\n",
    "from collections import defaultdict #dict subclass that calls a factory function to supply missing values\n",
    "from sklearn.preprocessing import StandardScaler\n",
    "\n",
    "from sklearn import preprocessing\n",
    "from sklearn import tree\n",
    "from sklearn.metrics import classification_report\n",
    "from sklearn.model_selection import train_test_split\n",
    "from sklearn.ensemble import RandomForestClassifier\n",
    "from sklearn.naive_bayes import GaussianNB\n",
    "from sklearn.decomposition import PCA\n",
    "from sklearn.pipeline import Pipeline\n",
    "\n",
    "import imblearn\n",
    "from imblearn.over_sampling import SMOTE\n",
    "from imblearn.over_sampling import RandomOverSampler\n",
    "\n",
    "# options for custom visualization\n",
    "#pd.set_option('display.max_columns', None)\n",
    "#np.set_printoptions(linewidth=160)\n",
    "#pd.options.display.max_rows = 999\n",
    "#pd.set_option('display.max_columns', 100)\n",
    "#pd.set_option('display.width', 1000)"
   ]
  },
  {
   "cell_type": "markdown",
   "id": "6d830ef6",
   "metadata": {},
   "source": [
    "# 2 - Load Dataset"
   ]
  },
  {
   "cell_type": "code",
   "execution_count": 191,
   "id": "937250ee",
   "metadata": {},
   "outputs": [
    {
     "name": "stdout",
     "output_type": "stream",
     "text": [
      "dimension training set:  (125973, 43)\n",
      "dimension test set:  (22544, 43)\n"
     ]
    }
   ],
   "source": [
    "dataset_root = 'datasets/nsl-kdd'\n",
    "train_file = os.path.join(dataset_root, 'KDDTrain+.txt')\n",
    "test_file = os.path.join(dataset_root, 'KDDTest+.txt')\n",
    "\n",
    "# Original KDD dataset feature names obtained from \n",
    "# http://kdd.ics.uci.edu/databases/kddcup99/kddcup.names\n",
    "\n",
    "header_names = ['duration', 'protocol_type', 'service', 'flag', 'src_bytes', 'dst_bytes', 'land',\n",
    "                'wrong_fragment', 'urgent', 'hot', 'num_failed_logins', 'logged_in', 'num_compromised', \n",
    "                'root_shell', 'su_attempted', 'num_root', 'num_file_creations', 'num_shells', 'num_access_files',\n",
    "                'num_outbound_cmds', 'is_host_login', 'is_guest_login', 'count', 'srv_count', 'serror_rate',\n",
    "                'srv_serror_rate', 'rerror_rate', 'srv_rerror_rate', 'same_srv_rate', 'diff_srv_rate',\n",
    "                'srv_diff_host_rate', 'dst_host_count', 'dst_host_srv_count', 'dst_host_same_srv_rate',\n",
    "                'dst_host_diff_srv_rate', 'dst_host_same_src_port_rate', 'dst_host_srv_diff_host_rate',\n",
    "                'dst_host_serror_rate', 'dst_host_srv_serror_rate', 'dst_host_rerror_rate',\n",
    "                'dst_host_srv_rerror_rate', 'attack_type', 'success_pred']\n",
    "\n",
    "# Read in the data from the CSV file into a a dataframe \n",
    "df_training = pd.read_csv(train_file, names = header_names)\n",
    "df_test = pd.read_csv(test_file, names = header_names)\n",
    "print(\"dimension training set: \", df_training.shape)\n",
    "print(\"dimension test set: \",df_test.shape)\n"
   ]
  },
  {
   "cell_type": "markdown",
   "id": "3c1ecd9d",
   "metadata": {},
   "source": [
    "# 3 - View of training set"
   ]
  },
  {
   "cell_type": "code",
   "execution_count": 192,
   "id": "19c409bd",
   "metadata": {
    "scrolled": true
   },
   "outputs": [
    {
     "data": {
      "text/html": [
       "<div>\n",
       "<style scoped>\n",
       "    .dataframe tbody tr th:only-of-type {\n",
       "        vertical-align: middle;\n",
       "    }\n",
       "\n",
       "    .dataframe tbody tr th {\n",
       "        vertical-align: top;\n",
       "    }\n",
       "\n",
       "    .dataframe thead th {\n",
       "        text-align: right;\n",
       "    }\n",
       "</style>\n",
       "<table border=\"1\" class=\"dataframe\">\n",
       "  <thead>\n",
       "    <tr style=\"text-align: right;\">\n",
       "      <th></th>\n",
       "      <th>duration</th>\n",
       "      <th>protocol_type</th>\n",
       "      <th>service</th>\n",
       "      <th>flag</th>\n",
       "      <th>src_bytes</th>\n",
       "      <th>dst_bytes</th>\n",
       "      <th>land</th>\n",
       "      <th>wrong_fragment</th>\n",
       "      <th>urgent</th>\n",
       "      <th>hot</th>\n",
       "      <th>...</th>\n",
       "      <th>dst_host_same_srv_rate</th>\n",
       "      <th>dst_host_diff_srv_rate</th>\n",
       "      <th>dst_host_same_src_port_rate</th>\n",
       "      <th>dst_host_srv_diff_host_rate</th>\n",
       "      <th>dst_host_serror_rate</th>\n",
       "      <th>dst_host_srv_serror_rate</th>\n",
       "      <th>dst_host_rerror_rate</th>\n",
       "      <th>dst_host_srv_rerror_rate</th>\n",
       "      <th>attack_type</th>\n",
       "      <th>success_pred</th>\n",
       "    </tr>\n",
       "  </thead>\n",
       "  <tbody>\n",
       "    <tr>\n",
       "      <th>0</th>\n",
       "      <td>0</td>\n",
       "      <td>tcp</td>\n",
       "      <td>ftp_data</td>\n",
       "      <td>SF</td>\n",
       "      <td>491</td>\n",
       "      <td>0</td>\n",
       "      <td>0</td>\n",
       "      <td>0</td>\n",
       "      <td>0</td>\n",
       "      <td>0</td>\n",
       "      <td>...</td>\n",
       "      <td>0.17</td>\n",
       "      <td>0.03</td>\n",
       "      <td>0.17</td>\n",
       "      <td>0.00</td>\n",
       "      <td>0.00</td>\n",
       "      <td>0.00</td>\n",
       "      <td>0.05</td>\n",
       "      <td>0.00</td>\n",
       "      <td>normal</td>\n",
       "      <td>20</td>\n",
       "    </tr>\n",
       "    <tr>\n",
       "      <th>1</th>\n",
       "      <td>0</td>\n",
       "      <td>udp</td>\n",
       "      <td>other</td>\n",
       "      <td>SF</td>\n",
       "      <td>146</td>\n",
       "      <td>0</td>\n",
       "      <td>0</td>\n",
       "      <td>0</td>\n",
       "      <td>0</td>\n",
       "      <td>0</td>\n",
       "      <td>...</td>\n",
       "      <td>0.00</td>\n",
       "      <td>0.60</td>\n",
       "      <td>0.88</td>\n",
       "      <td>0.00</td>\n",
       "      <td>0.00</td>\n",
       "      <td>0.00</td>\n",
       "      <td>0.00</td>\n",
       "      <td>0.00</td>\n",
       "      <td>normal</td>\n",
       "      <td>15</td>\n",
       "    </tr>\n",
       "    <tr>\n",
       "      <th>2</th>\n",
       "      <td>0</td>\n",
       "      <td>tcp</td>\n",
       "      <td>private</td>\n",
       "      <td>S0</td>\n",
       "      <td>0</td>\n",
       "      <td>0</td>\n",
       "      <td>0</td>\n",
       "      <td>0</td>\n",
       "      <td>0</td>\n",
       "      <td>0</td>\n",
       "      <td>...</td>\n",
       "      <td>0.10</td>\n",
       "      <td>0.05</td>\n",
       "      <td>0.00</td>\n",
       "      <td>0.00</td>\n",
       "      <td>1.00</td>\n",
       "      <td>1.00</td>\n",
       "      <td>0.00</td>\n",
       "      <td>0.00</td>\n",
       "      <td>neptune</td>\n",
       "      <td>19</td>\n",
       "    </tr>\n",
       "    <tr>\n",
       "      <th>3</th>\n",
       "      <td>0</td>\n",
       "      <td>tcp</td>\n",
       "      <td>http</td>\n",
       "      <td>SF</td>\n",
       "      <td>232</td>\n",
       "      <td>8153</td>\n",
       "      <td>0</td>\n",
       "      <td>0</td>\n",
       "      <td>0</td>\n",
       "      <td>0</td>\n",
       "      <td>...</td>\n",
       "      <td>1.00</td>\n",
       "      <td>0.00</td>\n",
       "      <td>0.03</td>\n",
       "      <td>0.04</td>\n",
       "      <td>0.03</td>\n",
       "      <td>0.01</td>\n",
       "      <td>0.00</td>\n",
       "      <td>0.01</td>\n",
       "      <td>normal</td>\n",
       "      <td>21</td>\n",
       "    </tr>\n",
       "    <tr>\n",
       "      <th>4</th>\n",
       "      <td>0</td>\n",
       "      <td>tcp</td>\n",
       "      <td>http</td>\n",
       "      <td>SF</td>\n",
       "      <td>199</td>\n",
       "      <td>420</td>\n",
       "      <td>0</td>\n",
       "      <td>0</td>\n",
       "      <td>0</td>\n",
       "      <td>0</td>\n",
       "      <td>...</td>\n",
       "      <td>1.00</td>\n",
       "      <td>0.00</td>\n",
       "      <td>0.00</td>\n",
       "      <td>0.00</td>\n",
       "      <td>0.00</td>\n",
       "      <td>0.00</td>\n",
       "      <td>0.00</td>\n",
       "      <td>0.00</td>\n",
       "      <td>normal</td>\n",
       "      <td>21</td>\n",
       "    </tr>\n",
       "  </tbody>\n",
       "</table>\n",
       "<p>5 rows × 43 columns</p>\n",
       "</div>"
      ],
      "text/plain": [
       "   duration protocol_type   service flag  src_bytes  dst_bytes  land  \\\n",
       "0         0           tcp  ftp_data   SF        491          0     0   \n",
       "1         0           udp     other   SF        146          0     0   \n",
       "2         0           tcp   private   S0          0          0     0   \n",
       "3         0           tcp      http   SF        232       8153     0   \n",
       "4         0           tcp      http   SF        199        420     0   \n",
       "\n",
       "   wrong_fragment  urgent  hot  ...  dst_host_same_srv_rate  \\\n",
       "0               0       0    0  ...                    0.17   \n",
       "1               0       0    0  ...                    0.00   \n",
       "2               0       0    0  ...                    0.10   \n",
       "3               0       0    0  ...                    1.00   \n",
       "4               0       0    0  ...                    1.00   \n",
       "\n",
       "   dst_host_diff_srv_rate  dst_host_same_src_port_rate  \\\n",
       "0                    0.03                         0.17   \n",
       "1                    0.60                         0.88   \n",
       "2                    0.05                         0.00   \n",
       "3                    0.00                         0.03   \n",
       "4                    0.00                         0.00   \n",
       "\n",
       "   dst_host_srv_diff_host_rate  dst_host_serror_rate  \\\n",
       "0                         0.00                  0.00   \n",
       "1                         0.00                  0.00   \n",
       "2                         0.00                  1.00   \n",
       "3                         0.04                  0.03   \n",
       "4                         0.00                  0.00   \n",
       "\n",
       "   dst_host_srv_serror_rate  dst_host_rerror_rate  dst_host_srv_rerror_rate  \\\n",
       "0                      0.00                  0.05                      0.00   \n",
       "1                      0.00                  0.00                      0.00   \n",
       "2                      1.00                  0.00                      0.00   \n",
       "3                      0.01                  0.00                      0.01   \n",
       "4                      0.00                  0.00                      0.00   \n",
       "\n",
       "   attack_type  success_pred  \n",
       "0       normal            20  \n",
       "1       normal            15  \n",
       "2      neptune            19  \n",
       "3       normal            21  \n",
       "4       normal            21  \n",
       "\n",
       "[5 rows x 43 columns]"
      ]
     },
     "execution_count": 192,
     "metadata": {},
     "output_type": "execute_result"
    }
   ],
   "source": [
    "# Visualize a snippet of the data frame df\n",
    "df_training.head()"
   ]
  },
  {
   "cell_type": "markdown",
   "id": "bffb1d85",
   "metadata": {},
   "source": [
    "#### we retrieve a quick and easy description of the data (total rows, type attributes, number of non-null values)"
   ]
  },
  {
   "cell_type": "code",
   "execution_count": 193,
   "id": "a29f07d0",
   "metadata": {
    "scrolled": false
   },
   "outputs": [
    {
     "name": "stdout",
     "output_type": "stream",
     "text": [
      "<class 'pandas.core.frame.DataFrame'>\n",
      "RangeIndex: 125973 entries, 0 to 125972\n",
      "Data columns (total 43 columns):\n",
      " #   Column                       Non-Null Count   Dtype  \n",
      "---  ------                       --------------   -----  \n",
      " 0   duration                     125973 non-null  int64  \n",
      " 1   protocol_type                125973 non-null  object \n",
      " 2   service                      125973 non-null  object \n",
      " 3   flag                         125973 non-null  object \n",
      " 4   src_bytes                    125973 non-null  int64  \n",
      " 5   dst_bytes                    125973 non-null  int64  \n",
      " 6   land                         125973 non-null  int64  \n",
      " 7   wrong_fragment               125973 non-null  int64  \n",
      " 8   urgent                       125973 non-null  int64  \n",
      " 9   hot                          125973 non-null  int64  \n",
      " 10  num_failed_logins            125973 non-null  int64  \n",
      " 11  logged_in                    125973 non-null  int64  \n",
      " 12  num_compromised              125973 non-null  int64  \n",
      " 13  root_shell                   125973 non-null  int64  \n",
      " 14  su_attempted                 125973 non-null  int64  \n",
      " 15  num_root                     125973 non-null  int64  \n",
      " 16  num_file_creations           125973 non-null  int64  \n",
      " 17  num_shells                   125973 non-null  int64  \n",
      " 18  num_access_files             125973 non-null  int64  \n",
      " 19  num_outbound_cmds            125973 non-null  int64  \n",
      " 20  is_host_login                125973 non-null  int64  \n",
      " 21  is_guest_login               125973 non-null  int64  \n",
      " 22  count                        125973 non-null  int64  \n",
      " 23  srv_count                    125973 non-null  int64  \n",
      " 24  serror_rate                  125973 non-null  float64\n",
      " 25  srv_serror_rate              125973 non-null  float64\n",
      " 26  rerror_rate                  125973 non-null  float64\n",
      " 27  srv_rerror_rate              125973 non-null  float64\n",
      " 28  same_srv_rate                125973 non-null  float64\n",
      " 29  diff_srv_rate                125973 non-null  float64\n",
      " 30  srv_diff_host_rate           125973 non-null  float64\n",
      " 31  dst_host_count               125973 non-null  int64  \n",
      " 32  dst_host_srv_count           125973 non-null  int64  \n",
      " 33  dst_host_same_srv_rate       125973 non-null  float64\n",
      " 34  dst_host_diff_srv_rate       125973 non-null  float64\n",
      " 35  dst_host_same_src_port_rate  125973 non-null  float64\n",
      " 36  dst_host_srv_diff_host_rate  125973 non-null  float64\n",
      " 37  dst_host_serror_rate         125973 non-null  float64\n",
      " 38  dst_host_srv_serror_rate     125973 non-null  float64\n",
      " 39  dst_host_rerror_rate         125973 non-null  float64\n",
      " 40  dst_host_srv_rerror_rate     125973 non-null  float64\n",
      " 41  attack_type                  125973 non-null  object \n",
      " 42  success_pred                 125973 non-null  int64  \n",
      "dtypes: float64(15), int64(24), object(4)\n",
      "memory usage: 41.3+ MB\n"
     ]
    }
   ],
   "source": [
    "df_training.info()"
   ]
  },
  {
   "cell_type": "markdown",
   "id": "aec9f817",
   "metadata": {},
   "source": [
    "## Distribution of attacks in Test set and Training set"
   ]
  },
  {
   "cell_type": "code",
   "execution_count": 194,
   "id": "7ca3261f",
   "metadata": {
    "scrolled": true
   },
   "outputs": [
    {
     "data": {
      "text/plain": [
       "<AxesSubplot:>"
      ]
     },
     "execution_count": 194,
     "metadata": {},
     "output_type": "execute_result"
    },
    {
     "data": {
      "image/png": "[encoded data removed]",
      "text/plain": [
       "<Figure size 2520x1080 with 1 Axes>"
      ]
     },
     "metadata": {
      "needs_background": "light"
     },
     "output_type": "display_data"
    }
   ],
   "source": [
    "#print graph for see uniformity TRAINING SET\n",
    "train_attack_labels = df_training['attack_type'].value_counts()\n",
    "train_attack_labels.plot(kind='barh',logx=True, figsize=(35,15), fontsize=30)"
   ]
  },
  {
   "cell_type": "code",
   "execution_count": 195,
   "id": "086004ec",
   "metadata": {},
   "outputs": [
    {
     "data": {
      "text/plain": [
       "<AxesSubplot:>"
      ]
     },
     "execution_count": 195,
     "metadata": {},
     "output_type": "execute_result"
    },
    {
     "data": {
      "image/png": "[encoded data removed]",
      "text/plain": [
       "<Figure size 1440x1296 with 1 Axes>"
      ]
     },
     "metadata": {
      "needs_background": "light"
     },
     "output_type": "display_data"
    }
   ],
   "source": [
    "#print graph for see uniformity TEST SET\n",
    "test_attack_labels = df_test['attack_type'].value_counts()\n",
    "test_attack_labels.plot(kind='barh',logx=True, figsize=(20,18), fontsize=30)"
   ]
  },
  {
   "cell_type": "markdown",
   "id": "a78f3ab4",
   "metadata": {},
   "source": [
    "# 4 -  Data pre-processing: transform categorical into binary\n",
    "\n",
    "As you can see from the previous info, not all attributes are numeric, let's analyze these types of attributes:"
   ]
  },
  {
   "cell_type": "code",
   "execution_count": 196,
   "id": "9060afe0",
   "metadata": {},
   "outputs": [
    {
     "name": "stdout",
     "output_type": "stream",
     "text": [
      "['protocol_type', 'service', 'flag']\n",
      "\n",
      "['land', 'logged_in', 'root_shell', 'su_attempted', 'is_host_login', 'is_guest_login']\n",
      "\n",
      "['duration', 'src_bytes', 'dst_bytes', 'wrong_fragment', 'urgent', 'hot', 'num_failed_logins', 'num_compromised', 'num_root', 'num_file_creations', 'num_shells', 'num_access_files', 'num_outbound_cmds', 'count', 'srv_count', 'serror_rate', 'srv_serror_rate', 'rerror_rate', 'srv_rerror_rate', 'same_srv_rate', 'diff_srv_rate', 'srv_diff_host_rate', 'dst_host_count', 'dst_host_srv_count', 'dst_host_same_srv_rate', 'dst_host_diff_srv_rate', 'dst_host_same_src_port_rate', 'dst_host_srv_diff_host_rate', 'dst_host_serror_rate', 'dst_host_srv_serror_rate', 'dst_host_rerror_rate', 'dst_host_srv_rerror_rate']\n"
     ]
    }
   ],
   "source": [
    "# distinguish between nominal (categorical) / binary / numeric attributes\n",
    "col_names = np.array(header_names)\n",
    "\n",
    "nominal_idx = [1, 2, 3]\n",
    "binary_idx = [6, 11, 13, 14, 20, 21]\n",
    "numeric_idx = list(set(range(41)).difference(nominal_idx).difference(binary_idx))\n",
    "\n",
    "\n",
    "nominal_cols = col_names[nominal_idx].tolist()\n",
    "binary_cols = col_names[binary_idx].tolist()\n",
    "numeric_cols = col_names[numeric_idx].tolist()\n",
    "\n",
    "print(nominal_cols)\n",
    "print(\"\")\n",
    "print(binary_cols)\n",
    "print(\"\")\n",
    "print(numeric_cols)"
   ]
  },
  {
   "cell_type": "code",
   "execution_count": 197,
   "id": "e73401e4",
   "metadata": {
    "scrolled": true
   },
   "outputs": [
    {
     "name": "stdout",
     "output_type": "stream",
     "text": [
      "Training set:\n",
      "values in protocol_type: 3\n",
      "values in service: 70\n",
      "values in flag: 11\n",
      "values in attack_type: 23\n",
      "\n",
      "Test set:\n",
      "values in protocol_type: 3\n",
      "values in service: 64\n",
      "values in flag: 11\n",
      "values in attack_type: 38\n"
     ]
    }
   ],
   "source": [
    "#Training set\n",
    "print(\"Training set:\")\n",
    "print(\"values in protocol_type:\", len(df_training[\"protocol_type\"].value_counts()))\n",
    "print(\"values in service:\", len(df_training[\"service\"].value_counts()))\n",
    "print(\"values in flag:\", len(df_training[\"flag\"].value_counts()))\n",
    "print(\"values in attack_type:\", len(df_training[\"attack_type\"].value_counts()))\n",
    "print(\"\")\n",
    "\n",
    "#Test set\n",
    "print(\"Test set:\")\n",
    "print(\"values in protocol_type:\", len(df_test[\"protocol_type\"].value_counts()))\n",
    "print(\"values in service:\", len(df_test[\"service\"].value_counts()))\n",
    "print(\"values in flag:\", len(df_test[\"flag\"].value_counts()))\n",
    "print(\"values in attack_type:\", len(df_test[\"attack_type\"].value_counts()))"
   ]
  },
  {
   "cell_type": "markdown",
   "id": "0f08b730",
   "metadata": {},
   "source": [
    "#### The comparison of the results shows that the test set has fewer categories (6), these must be added as empty columns:\n",
    "- transform Nominal attribute into binary attribute - TRAINING\n",
    "- transofrm Nominal attribute into binary attribute - TEST\n",
    "- add column in test set."
   ]
  },
  {
   "cell_type": "code",
   "execution_count": 198,
   "id": "4991ae16",
   "metadata": {},
   "outputs": [],
   "source": [
    "#save fault values of service in Test set that we need to add after dummies\n",
    "training_service=df_training['service'].tolist()\n",
    "test_service= df_test['service'].tolist()\n",
    "\n",
    "difference=list(set(training_service) - set(test_service))\n",
    "string = 'service_'\n",
    "difference=[string + x for x in difference]\n"
   ]
  },
  {
   "cell_type": "code",
   "execution_count": 199,
   "id": "c3a7f0c8",
   "metadata": {},
   "outputs": [],
   "source": [
    "# Make column names for dummies - TRAINING SET\n",
    "df_training = pd.get_dummies(df_training, columns=nominal_cols, drop_first=True, dtype=float)\n",
    "df_training.head()\n",
    "\n",
    "# Make column names for dummies - TEST SET\n",
    "df_test = pd.get_dummies(df_test, columns=nominal_cols, drop_first=True,dtype=float)"
   ]
  },
  {
   "cell_type": "code",
   "execution_count": 200,
   "id": "599b3728",
   "metadata": {
    "scrolled": true
   },
   "outputs": [
    {
     "data": {
      "text/plain": [
       "(22544, 121)"
      ]
     },
     "execution_count": 200,
     "metadata": {},
     "output_type": "execute_result"
    }
   ],
   "source": [
    "for col in difference:\n",
    "    df_test[col] = 0\n",
    "df_test.shape"
   ]
  },
  {
   "cell_type": "markdown",
   "id": "7ea453aa",
   "metadata": {},
   "source": [
    "## Reorder the columns of training_set and test_set"
   ]
  },
  {
   "cell_type": "code",
   "execution_count": 201,
   "id": "fb48bf33",
   "metadata": {
    "scrolled": true
   },
   "outputs": [
    {
     "name": "stdout",
     "output_type": "stream",
     "text": [
      "sorted done\n"
     ]
    }
   ],
   "source": [
    "# I reorder the columns of the test set according to those of the order of the training set\n",
    "new_col_names= df_training.columns.tolist()\n",
    "\n",
    "df_test = df_test.reindex(columns=new_col_names)\n",
    "df_training = df_training.reindex(columns=new_col_names)\n",
    "print(\"sorted done\")"
   ]
  },
  {
   "cell_type": "markdown",
   "id": "9137d80d",
   "metadata": {},
   "source": [
    "#### check dissimilarity in columns"
   ]
  },
  {
   "cell_type": "code",
   "execution_count": 202,
   "id": "84d14510",
   "metadata": {},
   "outputs": [],
   "source": [
    "# check if the columns are the same\n",
    "count = 0\n",
    "for item in df_training.columns.tolist():\n",
    "    if df_test.columns[count] != item:\n",
    "        print(\"different column\")\n",
    "        print(df_test.columns[count],item)\n",
    "    count+=1"
   ]
  },
  {
   "cell_type": "markdown",
   "id": "8b523bcb",
   "metadata": {},
   "source": [
    "Now both training-set and test-set have the same number of columns and are in the same order"
   ]
  },
  {
   "cell_type": "code",
   "execution_count": 203,
   "id": "62eb6a9b",
   "metadata": {
    "scrolled": true
   },
   "outputs": [
    {
     "data": {
      "text/html": [
       "<div>\n",
       "<style scoped>\n",
       "    .dataframe tbody tr th:only-of-type {\n",
       "        vertical-align: middle;\n",
       "    }\n",
       "\n",
       "    .dataframe tbody tr th {\n",
       "        vertical-align: top;\n",
       "    }\n",
       "\n",
       "    .dataframe thead th {\n",
       "        text-align: right;\n",
       "    }\n",
       "</style>\n",
       "<table border=\"1\" class=\"dataframe\">\n",
       "  <thead>\n",
       "    <tr style=\"text-align: right;\">\n",
       "      <th></th>\n",
       "      <th>duration</th>\n",
       "      <th>src_bytes</th>\n",
       "      <th>dst_bytes</th>\n",
       "      <th>land</th>\n",
       "      <th>wrong_fragment</th>\n",
       "      <th>urgent</th>\n",
       "      <th>hot</th>\n",
       "      <th>num_failed_logins</th>\n",
       "      <th>logged_in</th>\n",
       "      <th>num_compromised</th>\n",
       "      <th>...</th>\n",
       "      <th>flag_REJ</th>\n",
       "      <th>flag_RSTO</th>\n",
       "      <th>flag_RSTOS0</th>\n",
       "      <th>flag_RSTR</th>\n",
       "      <th>flag_S0</th>\n",
       "      <th>flag_S1</th>\n",
       "      <th>flag_S2</th>\n",
       "      <th>flag_S3</th>\n",
       "      <th>flag_SF</th>\n",
       "      <th>flag_SH</th>\n",
       "    </tr>\n",
       "  </thead>\n",
       "  <tbody>\n",
       "    <tr>\n",
       "      <th>0</th>\n",
       "      <td>0</td>\n",
       "      <td>0</td>\n",
       "      <td>0</td>\n",
       "      <td>0</td>\n",
       "      <td>0</td>\n",
       "      <td>0</td>\n",
       "      <td>0</td>\n",
       "      <td>0</td>\n",
       "      <td>0</td>\n",
       "      <td>0</td>\n",
       "      <td>...</td>\n",
       "      <td>1.0</td>\n",
       "      <td>0.0</td>\n",
       "      <td>0.0</td>\n",
       "      <td>0.0</td>\n",
       "      <td>0.0</td>\n",
       "      <td>0.0</td>\n",
       "      <td>0.0</td>\n",
       "      <td>0.0</td>\n",
       "      <td>0.0</td>\n",
       "      <td>0.0</td>\n",
       "    </tr>\n",
       "    <tr>\n",
       "      <th>1</th>\n",
       "      <td>0</td>\n",
       "      <td>0</td>\n",
       "      <td>0</td>\n",
       "      <td>0</td>\n",
       "      <td>0</td>\n",
       "      <td>0</td>\n",
       "      <td>0</td>\n",
       "      <td>0</td>\n",
       "      <td>0</td>\n",
       "      <td>0</td>\n",
       "      <td>...</td>\n",
       "      <td>1.0</td>\n",
       "      <td>0.0</td>\n",
       "      <td>0.0</td>\n",
       "      <td>0.0</td>\n",
       "      <td>0.0</td>\n",
       "      <td>0.0</td>\n",
       "      <td>0.0</td>\n",
       "      <td>0.0</td>\n",
       "      <td>0.0</td>\n",
       "      <td>0.0</td>\n",
       "    </tr>\n",
       "    <tr>\n",
       "      <th>2</th>\n",
       "      <td>2</td>\n",
       "      <td>12983</td>\n",
       "      <td>0</td>\n",
       "      <td>0</td>\n",
       "      <td>0</td>\n",
       "      <td>0</td>\n",
       "      <td>0</td>\n",
       "      <td>0</td>\n",
       "      <td>0</td>\n",
       "      <td>0</td>\n",
       "      <td>...</td>\n",
       "      <td>0.0</td>\n",
       "      <td>0.0</td>\n",
       "      <td>0.0</td>\n",
       "      <td>0.0</td>\n",
       "      <td>0.0</td>\n",
       "      <td>0.0</td>\n",
       "      <td>0.0</td>\n",
       "      <td>0.0</td>\n",
       "      <td>1.0</td>\n",
       "      <td>0.0</td>\n",
       "    </tr>\n",
       "    <tr>\n",
       "      <th>3</th>\n",
       "      <td>0</td>\n",
       "      <td>20</td>\n",
       "      <td>0</td>\n",
       "      <td>0</td>\n",
       "      <td>0</td>\n",
       "      <td>0</td>\n",
       "      <td>0</td>\n",
       "      <td>0</td>\n",
       "      <td>0</td>\n",
       "      <td>0</td>\n",
       "      <td>...</td>\n",
       "      <td>0.0</td>\n",
       "      <td>0.0</td>\n",
       "      <td>0.0</td>\n",
       "      <td>0.0</td>\n",
       "      <td>0.0</td>\n",
       "      <td>0.0</td>\n",
       "      <td>0.0</td>\n",
       "      <td>0.0</td>\n",
       "      <td>1.0</td>\n",
       "      <td>0.0</td>\n",
       "    </tr>\n",
       "    <tr>\n",
       "      <th>4</th>\n",
       "      <td>1</td>\n",
       "      <td>0</td>\n",
       "      <td>15</td>\n",
       "      <td>0</td>\n",
       "      <td>0</td>\n",
       "      <td>0</td>\n",
       "      <td>0</td>\n",
       "      <td>0</td>\n",
       "      <td>0</td>\n",
       "      <td>0</td>\n",
       "      <td>...</td>\n",
       "      <td>0.0</td>\n",
       "      <td>1.0</td>\n",
       "      <td>0.0</td>\n",
       "      <td>0.0</td>\n",
       "      <td>0.0</td>\n",
       "      <td>0.0</td>\n",
       "      <td>0.0</td>\n",
       "      <td>0.0</td>\n",
       "      <td>0.0</td>\n",
       "      <td>0.0</td>\n",
       "    </tr>\n",
       "  </tbody>\n",
       "</table>\n",
       "<p>5 rows × 121 columns</p>\n",
       "</div>"
      ],
      "text/plain": [
       "   duration  src_bytes  dst_bytes  land  wrong_fragment  urgent  hot  \\\n",
       "0         0          0          0     0               0       0    0   \n",
       "1         0          0          0     0               0       0    0   \n",
       "2         2      12983          0     0               0       0    0   \n",
       "3         0         20          0     0               0       0    0   \n",
       "4         1          0         15     0               0       0    0   \n",
       "\n",
       "   num_failed_logins  logged_in  num_compromised  ...  flag_REJ  flag_RSTO  \\\n",
       "0                  0          0                0  ...       1.0        0.0   \n",
       "1                  0          0                0  ...       1.0        0.0   \n",
       "2                  0          0                0  ...       0.0        0.0   \n",
       "3                  0          0                0  ...       0.0        0.0   \n",
       "4                  0          0                0  ...       0.0        1.0   \n",
       "\n",
       "   flag_RSTOS0  flag_RSTR  flag_S0  flag_S1  flag_S2  flag_S3  flag_SF  \\\n",
       "0          0.0        0.0      0.0      0.0      0.0      0.0      0.0   \n",
       "1          0.0        0.0      0.0      0.0      0.0      0.0      0.0   \n",
       "2          0.0        0.0      0.0      0.0      0.0      0.0      1.0   \n",
       "3          0.0        0.0      0.0      0.0      0.0      0.0      1.0   \n",
       "4          0.0        0.0      0.0      0.0      0.0      0.0      0.0   \n",
       "\n",
       "   flag_SH  \n",
       "0      0.0  \n",
       "1      0.0  \n",
       "2      0.0  \n",
       "3      0.0  \n",
       "4      0.0  \n",
       "\n",
       "[5 rows x 121 columns]"
      ]
     },
     "execution_count": 203,
     "metadata": {},
     "output_type": "execute_result"
    }
   ],
   "source": [
    "df_test.head()"
   ]
  },
  {
   "cell_type": "markdown",
   "id": "928bc61c",
   "metadata": {},
   "source": [
    "#### Columns increased from 43 to 121\n",
    "\n",
    "\n",
    "#### Numbers and binary attributes remain in the dataset, it is not necessary to discretize the numeric attributes, as it is already done automatically during the classification"
   ]
  },
  {
   "cell_type": "markdown",
   "id": "a1b6a72e",
   "metadata": {},
   "source": [
    "# 5 - Mapping 22 attacks into 5 categories\n",
    "We replace in the dataframe each specific attack (22 types) in one of the 5 mapped"
   ]
  },
  {
   "cell_type": "code",
   "execution_count": 204,
   "id": "d67b8c00",
   "metadata": {},
   "outputs": [
    {
     "data": {
      "text/plain": [
       "<AxesSubplot:>"
      ]
     },
     "execution_count": 204,
     "metadata": {},
     "output_type": "execute_result"
    },
    {
     "data": {
      "image/png": "[encoded data removed]",
      "text/plain": [
       "<Figure size 1440x720 with 1 Axes>"
      ]
     },
     "metadata": {
      "needs_background": "light"
     },
     "output_type": "display_data"
    }
   ],
   "source": [
    "# training_attack_types.txt maps each of the 22 different attacks to 1 of 5 categories\n",
    "# file obtained from http://kdd.ics.uci.edu/databases/kddcup99/training_attack_types\n",
    "\n",
    "category = defaultdict(list)\n",
    "category['benign'].append('normal')\n",
    "\n",
    "with open('datasets/training_attack_types.txt', 'r') as f:\n",
    "    for line in f.readlines():\n",
    "        attack, cat = line.strip().split(' ')\n",
    "        category[cat].append(attack)\n",
    "\n",
    "#mapping in the 5 categories -TEST and TRAINING SET\n",
    "attack_mapping = dict((v,k) for k in category for v in category[k])\n",
    "\n",
    "#TRAINING SET\n",
    "df_training['attack_category'] = df_training['attack_type'].map(lambda x: attack_mapping[x])\n",
    "\n",
    "#TEST SET\n",
    "df_test['attack_category'] = df_test['attack_type'].map(lambda x: attack_mapping[x])\n",
    "\n",
    "#print graph for see uniformity\n",
    "train_attack_cats = df_training['attack_category'].value_counts()\n",
    "train_attack_cats.plot(kind='barh', figsize=(20,10), fontsize=30)"
   ]
  },
  {
   "cell_type": "code",
   "execution_count": 205,
   "id": "c3197bb4",
   "metadata": {
    "scrolled": true
   },
   "outputs": [
    {
     "data": {
      "text/plain": [
       "<AxesSubplot:>"
      ]
     },
     "execution_count": 205,
     "metadata": {},
     "output_type": "execute_result"
    },
    {
     "data": {
      "image/png": "[encoded data removed]",
      "text/plain": [
       "<Figure size 1440x720 with 1 Axes>"
      ]
     },
     "metadata": {
      "needs_background": "light"
     },
     "output_type": "display_data"
    }
   ],
   "source": [
    "test_attack_cats = df_test['attack_category'].value_counts()\n",
    "test_attack_cats.plot(kind='barh', figsize=(20,10), fontsize=30)"
   ]
  },
  {
   "cell_type": "markdown",
   "id": "dcbc9e38",
   "metadata": {},
   "source": [
    "### The dataset is heavily unbalanced"
   ]
  },
  {
   "cell_type": "markdown",
   "id": "07c19133",
   "metadata": {},
   "source": [
    "# 6 - Adjust values\n",
    "By definition we cannot have binary attributes greater than 2:\n",
    "- we see that \"su_attempted\" does not respect this condition, so let's settle it assuming that 2 -> 0"
   ]
  },
  {
   "cell_type": "code",
   "execution_count": 206,
   "id": "25366cc3",
   "metadata": {
    "scrolled": false
   },
   "outputs": [
    {
     "data": {
      "text/html": [
       "<div>\n",
       "<style scoped>\n",
       "    .dataframe tbody tr th:only-of-type {\n",
       "        vertical-align: middle;\n",
       "    }\n",
       "\n",
       "    .dataframe tbody tr th {\n",
       "        vertical-align: top;\n",
       "    }\n",
       "\n",
       "    .dataframe thead th {\n",
       "        text-align: right;\n",
       "    }\n",
       "</style>\n",
       "<table border=\"1\" class=\"dataframe\">\n",
       "  <thead>\n",
       "    <tr style=\"text-align: right;\">\n",
       "      <th></th>\n",
       "      <th>land</th>\n",
       "      <th>logged_in</th>\n",
       "      <th>root_shell</th>\n",
       "      <th>su_attempted</th>\n",
       "      <th>is_host_login</th>\n",
       "      <th>is_guest_login</th>\n",
       "    </tr>\n",
       "  </thead>\n",
       "  <tbody>\n",
       "    <tr>\n",
       "      <th>count</th>\n",
       "      <td>125973.000000</td>\n",
       "      <td>125973.000000</td>\n",
       "      <td>125973.000000</td>\n",
       "      <td>125973.000000</td>\n",
       "      <td>125973.000000</td>\n",
       "      <td>125973.000000</td>\n",
       "    </tr>\n",
       "    <tr>\n",
       "      <th>mean</th>\n",
       "      <td>0.000198</td>\n",
       "      <td>0.395736</td>\n",
       "      <td>0.001342</td>\n",
       "      <td>0.001103</td>\n",
       "      <td>0.000008</td>\n",
       "      <td>0.009423</td>\n",
       "    </tr>\n",
       "    <tr>\n",
       "      <th>std</th>\n",
       "      <td>0.014086</td>\n",
       "      <td>0.489010</td>\n",
       "      <td>0.036603</td>\n",
       "      <td>0.045154</td>\n",
       "      <td>0.002817</td>\n",
       "      <td>0.096612</td>\n",
       "    </tr>\n",
       "    <tr>\n",
       "      <th>min</th>\n",
       "      <td>0.000000</td>\n",
       "      <td>0.000000</td>\n",
       "      <td>0.000000</td>\n",
       "      <td>0.000000</td>\n",
       "      <td>0.000000</td>\n",
       "      <td>0.000000</td>\n",
       "    </tr>\n",
       "    <tr>\n",
       "      <th>25%</th>\n",
       "      <td>0.000000</td>\n",
       "      <td>0.000000</td>\n",
       "      <td>0.000000</td>\n",
       "      <td>0.000000</td>\n",
       "      <td>0.000000</td>\n",
       "      <td>0.000000</td>\n",
       "    </tr>\n",
       "    <tr>\n",
       "      <th>50%</th>\n",
       "      <td>0.000000</td>\n",
       "      <td>0.000000</td>\n",
       "      <td>0.000000</td>\n",
       "      <td>0.000000</td>\n",
       "      <td>0.000000</td>\n",
       "      <td>0.000000</td>\n",
       "    </tr>\n",
       "    <tr>\n",
       "      <th>75%</th>\n",
       "      <td>0.000000</td>\n",
       "      <td>1.000000</td>\n",
       "      <td>0.000000</td>\n",
       "      <td>0.000000</td>\n",
       "      <td>0.000000</td>\n",
       "      <td>0.000000</td>\n",
       "    </tr>\n",
       "    <tr>\n",
       "      <th>max</th>\n",
       "      <td>1.000000</td>\n",
       "      <td>1.000000</td>\n",
       "      <td>1.000000</td>\n",
       "      <td>2.000000</td>\n",
       "      <td>1.000000</td>\n",
       "      <td>1.000000</td>\n",
       "    </tr>\n",
       "  </tbody>\n",
       "</table>\n",
       "</div>"
      ],
      "text/plain": [
       "                land      logged_in     root_shell   su_attempted  \\\n",
       "count  125973.000000  125973.000000  125973.000000  125973.000000   \n",
       "mean        0.000198       0.395736       0.001342       0.001103   \n",
       "std         0.014086       0.489010       0.036603       0.045154   \n",
       "min         0.000000       0.000000       0.000000       0.000000   \n",
       "25%         0.000000       0.000000       0.000000       0.000000   \n",
       "50%         0.000000       0.000000       0.000000       0.000000   \n",
       "75%         0.000000       1.000000       0.000000       0.000000   \n",
       "max         1.000000       1.000000       1.000000       2.000000   \n",
       "\n",
       "       is_host_login  is_guest_login  \n",
       "count  125973.000000   125973.000000  \n",
       "mean        0.000008        0.009423  \n",
       "std         0.002817        0.096612  \n",
       "min         0.000000        0.000000  \n",
       "25%         0.000000        0.000000  \n",
       "50%         0.000000        0.000000  \n",
       "75%         0.000000        0.000000  \n",
       "max         1.000000        1.000000  "
      ]
     },
     "execution_count": 206,
     "metadata": {},
     "output_type": "execute_result"
    }
   ],
   "source": [
    "df_training[binary_cols].describe()"
   ]
  },
  {
   "cell_type": "code",
   "execution_count": 207,
   "id": "3ee37c1d",
   "metadata": {
    "scrolled": true
   },
   "outputs": [
    {
     "name": "stdout",
     "output_type": "stream",
     "text": [
      "***before:***\n",
      "su_attempted\n",
      "0    125893\n",
      "1        21\n",
      "2        59\n",
      "dtype: int64\n",
      "\n",
      "***after:***\n",
      "su_attempted\n",
      "0    125952\n",
      "1        21\n",
      "dtype: int64\n"
     ]
    }
   ],
   "source": [
    "print(\"***before:***\")\n",
    "print(df_training.groupby(['su_attempted']).size())\n",
    "print(\"\")\n",
    "\n",
    "# Let's fix this discrepancy and assume that su_attempted=2 -> su_attempted=0\n",
    "print(\"***after:***\")\n",
    "df_training['su_attempted'].replace(2, 0, inplace=True)\n",
    "print(df_training.groupby(['su_attempted']).size())"
   ]
  },
  {
   "cell_type": "markdown",
   "id": "01508f1f",
   "metadata": {},
   "source": [
    "#### do the same even for the TEST SET:"
   ]
  },
  {
   "cell_type": "code",
   "execution_count": 208,
   "id": "8e861f5f",
   "metadata": {
    "scrolled": true
   },
   "outputs": [
    {
     "data": {
      "text/html": [
       "<div>\n",
       "<style scoped>\n",
       "    .dataframe tbody tr th:only-of-type {\n",
       "        vertical-align: middle;\n",
       "    }\n",
       "\n",
       "    .dataframe tbody tr th {\n",
       "        vertical-align: top;\n",
       "    }\n",
       "\n",
       "    .dataframe thead th {\n",
       "        text-align: right;\n",
       "    }\n",
       "</style>\n",
       "<table border=\"1\" class=\"dataframe\">\n",
       "  <thead>\n",
       "    <tr style=\"text-align: right;\">\n",
       "      <th></th>\n",
       "      <th>land</th>\n",
       "      <th>logged_in</th>\n",
       "      <th>root_shell</th>\n",
       "      <th>su_attempted</th>\n",
       "      <th>is_host_login</th>\n",
       "      <th>is_guest_login</th>\n",
       "    </tr>\n",
       "  </thead>\n",
       "  <tbody>\n",
       "    <tr>\n",
       "      <th>count</th>\n",
       "      <td>22544.000000</td>\n",
       "      <td>22544.000000</td>\n",
       "      <td>22544.000000</td>\n",
       "      <td>22544.000000</td>\n",
       "      <td>22544.000000</td>\n",
       "      <td>22544.000000</td>\n",
       "    </tr>\n",
       "    <tr>\n",
       "      <th>mean</th>\n",
       "      <td>0.000311</td>\n",
       "      <td>0.442202</td>\n",
       "      <td>0.002440</td>\n",
       "      <td>0.000266</td>\n",
       "      <td>0.000488</td>\n",
       "      <td>0.028433</td>\n",
       "    </tr>\n",
       "    <tr>\n",
       "      <th>std</th>\n",
       "      <td>0.017619</td>\n",
       "      <td>0.496659</td>\n",
       "      <td>0.049334</td>\n",
       "      <td>0.021060</td>\n",
       "      <td>0.022084</td>\n",
       "      <td>0.166211</td>\n",
       "    </tr>\n",
       "    <tr>\n",
       "      <th>min</th>\n",
       "      <td>0.000000</td>\n",
       "      <td>0.000000</td>\n",
       "      <td>0.000000</td>\n",
       "      <td>0.000000</td>\n",
       "      <td>0.000000</td>\n",
       "      <td>0.000000</td>\n",
       "    </tr>\n",
       "    <tr>\n",
       "      <th>25%</th>\n",
       "      <td>0.000000</td>\n",
       "      <td>0.000000</td>\n",
       "      <td>0.000000</td>\n",
       "      <td>0.000000</td>\n",
       "      <td>0.000000</td>\n",
       "      <td>0.000000</td>\n",
       "    </tr>\n",
       "    <tr>\n",
       "      <th>50%</th>\n",
       "      <td>0.000000</td>\n",
       "      <td>0.000000</td>\n",
       "      <td>0.000000</td>\n",
       "      <td>0.000000</td>\n",
       "      <td>0.000000</td>\n",
       "      <td>0.000000</td>\n",
       "    </tr>\n",
       "    <tr>\n",
       "      <th>75%</th>\n",
       "      <td>0.000000</td>\n",
       "      <td>1.000000</td>\n",
       "      <td>0.000000</td>\n",
       "      <td>0.000000</td>\n",
       "      <td>0.000000</td>\n",
       "      <td>0.000000</td>\n",
       "    </tr>\n",
       "    <tr>\n",
       "      <th>max</th>\n",
       "      <td>1.000000</td>\n",
       "      <td>1.000000</td>\n",
       "      <td>1.000000</td>\n",
       "      <td>2.000000</td>\n",
       "      <td>1.000000</td>\n",
       "      <td>1.000000</td>\n",
       "    </tr>\n",
       "  </tbody>\n",
       "</table>\n",
       "</div>"
      ],
      "text/plain": [
       "               land     logged_in    root_shell  su_attempted  is_host_login  \\\n",
       "count  22544.000000  22544.000000  22544.000000  22544.000000   22544.000000   \n",
       "mean       0.000311      0.442202      0.002440      0.000266       0.000488   \n",
       "std        0.017619      0.496659      0.049334      0.021060       0.022084   \n",
       "min        0.000000      0.000000      0.000000      0.000000       0.000000   \n",
       "25%        0.000000      0.000000      0.000000      0.000000       0.000000   \n",
       "50%        0.000000      0.000000      0.000000      0.000000       0.000000   \n",
       "75%        0.000000      1.000000      0.000000      0.000000       0.000000   \n",
       "max        1.000000      1.000000      1.000000      2.000000       1.000000   \n",
       "\n",
       "       is_guest_login  \n",
       "count    22544.000000  \n",
       "mean         0.028433  \n",
       "std          0.166211  \n",
       "min          0.000000  \n",
       "25%          0.000000  \n",
       "50%          0.000000  \n",
       "75%          0.000000  \n",
       "max          1.000000  "
      ]
     },
     "execution_count": 208,
     "metadata": {},
     "output_type": "execute_result"
    }
   ],
   "source": [
    "df_test[binary_cols].describe()"
   ]
  },
  {
   "cell_type": "code",
   "execution_count": 209,
   "id": "3c92c68b",
   "metadata": {},
   "outputs": [
    {
     "name": "stdout",
     "output_type": "stream",
     "text": [
      "***before:***\n",
      "su_attempted\n",
      "0    22540\n",
      "1        2\n",
      "2        2\n",
      "dtype: int64\n",
      "\n",
      "***after:***\n",
      "su_attempted\n",
      "0    22542\n",
      "1        2\n",
      "dtype: int64\n"
     ]
    }
   ],
   "source": [
    "print(\"***before:***\")\n",
    "print(df_test.groupby(['su_attempted']).size())\n",
    "print(\"\")\n",
    "\n",
    "# Let's fix this discrepancy and assume that su_attempted=2 -> su_attempted=0\n",
    "print(\"***after:***\")\n",
    "df_test['su_attempted'].replace(2, 0, inplace=True)\n",
    "print(df_test.groupby(['su_attempted']).size())"
   ]
  },
  {
   "cell_type": "code",
   "execution_count": 210,
   "id": "ddf1a4be",
   "metadata": {
    "scrolled": true
   },
   "outputs": [
    {
     "data": {
      "text/html": [
       "<div>\n",
       "<style scoped>\n",
       "    .dataframe tbody tr th:only-of-type {\n",
       "        vertical-align: middle;\n",
       "    }\n",
       "\n",
       "    .dataframe tbody tr th {\n",
       "        vertical-align: top;\n",
       "    }\n",
       "\n",
       "    .dataframe thead th {\n",
       "        text-align: right;\n",
       "    }\n",
       "</style>\n",
       "<table border=\"1\" class=\"dataframe\">\n",
       "  <thead>\n",
       "    <tr style=\"text-align: right;\">\n",
       "      <th></th>\n",
       "      <th>land</th>\n",
       "      <th>logged_in</th>\n",
       "      <th>root_shell</th>\n",
       "      <th>su_attempted</th>\n",
       "      <th>is_host_login</th>\n",
       "      <th>is_guest_login</th>\n",
       "    </tr>\n",
       "  </thead>\n",
       "  <tbody>\n",
       "    <tr>\n",
       "      <th>count</th>\n",
       "      <td>125973.000000</td>\n",
       "      <td>125973.000000</td>\n",
       "      <td>125973.000000</td>\n",
       "      <td>125973.000000</td>\n",
       "      <td>125973.000000</td>\n",
       "      <td>125973.000000</td>\n",
       "    </tr>\n",
       "    <tr>\n",
       "      <th>mean</th>\n",
       "      <td>0.000198</td>\n",
       "      <td>0.395736</td>\n",
       "      <td>0.001342</td>\n",
       "      <td>0.000167</td>\n",
       "      <td>0.000008</td>\n",
       "      <td>0.009423</td>\n",
       "    </tr>\n",
       "    <tr>\n",
       "      <th>std</th>\n",
       "      <td>0.014086</td>\n",
       "      <td>0.489010</td>\n",
       "      <td>0.036603</td>\n",
       "      <td>0.012910</td>\n",
       "      <td>0.002817</td>\n",
       "      <td>0.096612</td>\n",
       "    </tr>\n",
       "    <tr>\n",
       "      <th>min</th>\n",
       "      <td>0.000000</td>\n",
       "      <td>0.000000</td>\n",
       "      <td>0.000000</td>\n",
       "      <td>0.000000</td>\n",
       "      <td>0.000000</td>\n",
       "      <td>0.000000</td>\n",
       "    </tr>\n",
       "    <tr>\n",
       "      <th>25%</th>\n",
       "      <td>0.000000</td>\n",
       "      <td>0.000000</td>\n",
       "      <td>0.000000</td>\n",
       "      <td>0.000000</td>\n",
       "      <td>0.000000</td>\n",
       "      <td>0.000000</td>\n",
       "    </tr>\n",
       "    <tr>\n",
       "      <th>50%</th>\n",
       "      <td>0.000000</td>\n",
       "      <td>0.000000</td>\n",
       "      <td>0.000000</td>\n",
       "      <td>0.000000</td>\n",
       "      <td>0.000000</td>\n",
       "      <td>0.000000</td>\n",
       "    </tr>\n",
       "    <tr>\n",
       "      <th>75%</th>\n",
       "      <td>0.000000</td>\n",
       "      <td>1.000000</td>\n",
       "      <td>0.000000</td>\n",
       "      <td>0.000000</td>\n",
       "      <td>0.000000</td>\n",
       "      <td>0.000000</td>\n",
       "    </tr>\n",
       "    <tr>\n",
       "      <th>max</th>\n",
       "      <td>1.000000</td>\n",
       "      <td>1.000000</td>\n",
       "      <td>1.000000</td>\n",
       "      <td>1.000000</td>\n",
       "      <td>1.000000</td>\n",
       "      <td>1.000000</td>\n",
       "    </tr>\n",
       "  </tbody>\n",
       "</table>\n",
       "</div>"
      ],
      "text/plain": [
       "                land      logged_in     root_shell   su_attempted  \\\n",
       "count  125973.000000  125973.000000  125973.000000  125973.000000   \n",
       "mean        0.000198       0.395736       0.001342       0.000167   \n",
       "std         0.014086       0.489010       0.036603       0.012910   \n",
       "min         0.000000       0.000000       0.000000       0.000000   \n",
       "25%         0.000000       0.000000       0.000000       0.000000   \n",
       "50%         0.000000       0.000000       0.000000       0.000000   \n",
       "75%         0.000000       1.000000       0.000000       0.000000   \n",
       "max         1.000000       1.000000       1.000000       1.000000   \n",
       "\n",
       "       is_host_login  is_guest_login  \n",
       "count  125973.000000   125973.000000  \n",
       "mean        0.000008        0.009423  \n",
       "std         0.002817        0.096612  \n",
       "min         0.000000        0.000000  \n",
       "25%         0.000000        0.000000  \n",
       "50%         0.000000        0.000000  \n",
       "75%         0.000000        0.000000  \n",
       "max         1.000000        1.000000  "
      ]
     },
     "execution_count": 210,
     "metadata": {},
     "output_type": "execute_result"
    }
   ],
   "source": [
    "df_training[binary_cols].describe()"
   ]
  },
  {
   "cell_type": "markdown",
   "id": "903956f2",
   "metadata": {},
   "source": [
    "# 7 - Delete unecessary attribute\n",
    "Now we see that:\n",
    "- **num_outbound_cmds** -> has only one value for all entries\n",
    "- **success_pred** -> is useless for our analysis, as it refers to \"how many algorithms\" have correctly labeled that entry\n",
    "- **attack type** is useless, as we have a lower granularity with attack_category introduced previously\n",
    "\n",
    "These 3 attributes can be eliminated without impacting the analysis. Let's remove them from both the training set and the test set"
   ]
  },
  {
   "cell_type": "code",
   "execution_count": 211,
   "id": "9d4de981",
   "metadata": {},
   "outputs": [
    {
     "name": "stdout",
     "output_type": "stream",
     "text": [
      "training set:\n",
      "num_outbound_cmds\n",
      "test set:\n",
      "num_outbound_cmds\n"
     ]
    }
   ],
   "source": [
    "# first of all we see that all attributes that have only one value: only num_outbound_cmds respects this condition\n",
    "print(\"training set:\")\n",
    "for col_name in df_training.columns:\n",
    "    if len(df_training.groupby([col_name]).size()) == 1:\n",
    "        print(col_name)\n",
    "\n",
    "print(\"test set:\")\n",
    "for col_name in df_test.columns:\n",
    "    if len(df_training.groupby([col_name]).size()) == 1:\n",
    "        print(col_name)"
   ]
  },
  {
   "cell_type": "code",
   "execution_count": 212,
   "id": "b3d13691",
   "metadata": {},
   "outputs": [],
   "source": [
    "# Delete Attributes\n",
    "\n",
    "# Training Set:\n",
    "df_training.drop(['success_pred'], axis=1, inplace=True) # not of interest\n",
    "df_training.drop(['attack_type'], axis=1, inplace=True) # not of interest\n",
    "df_training.drop(['num_outbound_cmds'], axis=1, inplace=True) # not of interest\n",
    "\n",
    "# Test Set:\n",
    "df_test.drop(['success_pred'], axis=1, inplace=True) # not of interest\n",
    "df_test.drop(['attack_type'], axis=1, inplace=True) # not of interest\n",
    "df_test.drop(['num_outbound_cmds'], axis=1, inplace=True) # not of interest\n",
    "\n",
    "numeric_cols.remove('num_outbound_cmds')"
   ]
  },
  {
   "cell_type": "code",
   "execution_count": 213,
   "id": "f37e7347",
   "metadata": {
    "scrolled": true
   },
   "outputs": [
    {
     "name": "stdout",
     "output_type": "stream",
     "text": [
      "dimension training set:  (125973, 119)\n",
      "dimension test set:  (125973, 119)\n"
     ]
    }
   ],
   "source": [
    "print(\"dimension training set: \",df_training.shape)\n",
    "print(\"dimension test set: \", df_training.shape)"
   ]
  },
  {
   "cell_type": "markdown",
   "id": "729c900e",
   "metadata": {},
   "source": [
    "# Data Mining - Extract Y_training & X_Training | Extract X_test & Y_test"
   ]
  },
  {
   "cell_type": "markdown",
   "id": "55c94e37",
   "metadata": {},
   "source": [
    "### estrazione training set"
   ]
  },
  {
   "cell_type": "code",
   "execution_count": 214,
   "id": "f4364b14",
   "metadata": {},
   "outputs": [
    {
     "name": "stdout",
     "output_type": "stream",
     "text": [
      "shape y_train:  (125973,)\n",
      "shape x_train:  (125973, 118)\n"
     ]
    }
   ],
   "source": [
    "# estraiamo il vettore con le labels\n",
    "y_train = df_training['attack_category']\n",
    "print(\"shape y_train: \", y_train.shape)\n",
    "\n",
    "# estraiamo la matrice con gli attributi\n",
    "df_training.drop(['attack_category'], axis=1, inplace=True)\n",
    "x_train = df_training\n",
    "print(\"shape x_train: \", x_train.shape)"
   ]
  },
  {
   "cell_type": "markdown",
   "id": "7db2d93e",
   "metadata": {},
   "source": [
    "### test set extraction"
   ]
  },
  {
   "cell_type": "code",
   "execution_count": 215,
   "id": "1b101c4d",
   "metadata": {},
   "outputs": [
    {
     "name": "stdout",
     "output_type": "stream",
     "text": [
      "shape y_test:  (22544,)\n",
      "shape x_test:  (22544, 118)\n"
     ]
    }
   ],
   "source": [
    "# we extract the vector with the labels\n",
    "y_test = df_test['attack_category']\n",
    "print(\"shape y_test: \", y_test.shape)\n",
    "\n",
    "#extract the matrix with the attributes\n",
    "df_test.drop(['attack_category'], axis=1, inplace=True)\n",
    "x_test = df_test\n",
    "print(\"shape x_test: \", x_test.shape)"
   ]
  },
  {
   "cell_type": "markdown",
   "id": "69845ccf",
   "metadata": {},
   "source": [
    "# 8 - Normalize values\n",
    "The scikit-learn library includes the sklearn.preprocessing.StandardScaler class that provides this functionality."
   ]
  },
  {
   "cell_type": "code",
   "execution_count": 216,
   "id": "8dd7587f",
   "metadata": {
    "scrolled": true
   },
   "outputs": [
    {
     "data": {
      "text/html": [
       "<div>\n",
       "<style scoped>\n",
       "    .dataframe tbody tr th:only-of-type {\n",
       "        vertical-align: middle;\n",
       "    }\n",
       "\n",
       "    .dataframe tbody tr th {\n",
       "        vertical-align: top;\n",
       "    }\n",
       "\n",
       "    .dataframe thead th {\n",
       "        text-align: right;\n",
       "    }\n",
       "</style>\n",
       "<table border=\"1\" class=\"dataframe\">\n",
       "  <thead>\n",
       "    <tr style=\"text-align: right;\">\n",
       "      <th></th>\n",
       "      <th>count</th>\n",
       "      <th>mean</th>\n",
       "      <th>std</th>\n",
       "      <th>min</th>\n",
       "      <th>25%</th>\n",
       "      <th>50%</th>\n",
       "      <th>75%</th>\n",
       "      <th>max</th>\n",
       "    </tr>\n",
       "  </thead>\n",
       "  <tbody>\n",
       "    <tr>\n",
       "      <th>duration</th>\n",
       "      <td>125973.0</td>\n",
       "      <td>287.144650</td>\n",
       "      <td>2.604515e+03</td>\n",
       "      <td>0.0</td>\n",
       "      <td>0.0</td>\n",
       "      <td>0.0</td>\n",
       "      <td>0.0</td>\n",
       "      <td>4.290800e+04</td>\n",
       "    </tr>\n",
       "    <tr>\n",
       "      <th>src_bytes</th>\n",
       "      <td>125973.0</td>\n",
       "      <td>45566.743000</td>\n",
       "      <td>5.870331e+06</td>\n",
       "      <td>0.0</td>\n",
       "      <td>0.0</td>\n",
       "      <td>44.0</td>\n",
       "      <td>276.0</td>\n",
       "      <td>1.379964e+09</td>\n",
       "    </tr>\n",
       "    <tr>\n",
       "      <th>dst_bytes</th>\n",
       "      <td>125973.0</td>\n",
       "      <td>19779.114421</td>\n",
       "      <td>4.021269e+06</td>\n",
       "      <td>0.0</td>\n",
       "      <td>0.0</td>\n",
       "      <td>0.0</td>\n",
       "      <td>516.0</td>\n",
       "      <td>1.309937e+09</td>\n",
       "    </tr>\n",
       "    <tr>\n",
       "      <th>land</th>\n",
       "      <td>125973.0</td>\n",
       "      <td>0.000198</td>\n",
       "      <td>1.408607e-02</td>\n",
       "      <td>0.0</td>\n",
       "      <td>0.0</td>\n",
       "      <td>0.0</td>\n",
       "      <td>0.0</td>\n",
       "      <td>1.000000e+00</td>\n",
       "    </tr>\n",
       "    <tr>\n",
       "      <th>wrong_fragment</th>\n",
       "      <td>125973.0</td>\n",
       "      <td>0.022687</td>\n",
       "      <td>2.535300e-01</td>\n",
       "      <td>0.0</td>\n",
       "      <td>0.0</td>\n",
       "      <td>0.0</td>\n",
       "      <td>0.0</td>\n",
       "      <td>3.000000e+00</td>\n",
       "    </tr>\n",
       "    <tr>\n",
       "      <th>...</th>\n",
       "      <td>...</td>\n",
       "      <td>...</td>\n",
       "      <td>...</td>\n",
       "      <td>...</td>\n",
       "      <td>...</td>\n",
       "      <td>...</td>\n",
       "      <td>...</td>\n",
       "      <td>...</td>\n",
       "    </tr>\n",
       "    <tr>\n",
       "      <th>flag_S1</th>\n",
       "      <td>125973.0</td>\n",
       "      <td>0.002897</td>\n",
       "      <td>5.375011e-02</td>\n",
       "      <td>0.0</td>\n",
       "      <td>0.0</td>\n",
       "      <td>0.0</td>\n",
       "      <td>0.0</td>\n",
       "      <td>1.000000e+00</td>\n",
       "    </tr>\n",
       "    <tr>\n",
       "      <th>flag_S2</th>\n",
       "      <td>125973.0</td>\n",
       "      <td>0.001008</td>\n",
       "      <td>3.173553e-02</td>\n",
       "      <td>0.0</td>\n",
       "      <td>0.0</td>\n",
       "      <td>0.0</td>\n",
       "      <td>0.0</td>\n",
       "      <td>1.000000e+00</td>\n",
       "    </tr>\n",
       "    <tr>\n",
       "      <th>flag_S3</th>\n",
       "      <td>125973.0</td>\n",
       "      <td>0.000389</td>\n",
       "      <td>1.971862e-02</td>\n",
       "      <td>0.0</td>\n",
       "      <td>0.0</td>\n",
       "      <td>0.0</td>\n",
       "      <td>0.0</td>\n",
       "      <td>1.000000e+00</td>\n",
       "    </tr>\n",
       "    <tr>\n",
       "      <th>flag_SF</th>\n",
       "      <td>125973.0</td>\n",
       "      <td>0.594929</td>\n",
       "      <td>4.909077e-01</td>\n",
       "      <td>0.0</td>\n",
       "      <td>0.0</td>\n",
       "      <td>1.0</td>\n",
       "      <td>1.0</td>\n",
       "      <td>1.000000e+00</td>\n",
       "    </tr>\n",
       "    <tr>\n",
       "      <th>flag_SH</th>\n",
       "      <td>125973.0</td>\n",
       "      <td>0.002151</td>\n",
       "      <td>4.633189e-02</td>\n",
       "      <td>0.0</td>\n",
       "      <td>0.0</td>\n",
       "      <td>0.0</td>\n",
       "      <td>0.0</td>\n",
       "      <td>1.000000e+00</td>\n",
       "    </tr>\n",
       "  </tbody>\n",
       "</table>\n",
       "<p>118 rows × 8 columns</p>\n",
       "</div>"
      ],
      "text/plain": [
       "                   count          mean           std  min  25%   50%    75%  \\\n",
       "duration        125973.0    287.144650  2.604515e+03  0.0  0.0   0.0    0.0   \n",
       "src_bytes       125973.0  45566.743000  5.870331e+06  0.0  0.0  44.0  276.0   \n",
       "dst_bytes       125973.0  19779.114421  4.021269e+06  0.0  0.0   0.0  516.0   \n",
       "land            125973.0      0.000198  1.408607e-02  0.0  0.0   0.0    0.0   \n",
       "wrong_fragment  125973.0      0.022687  2.535300e-01  0.0  0.0   0.0    0.0   \n",
       "...                  ...           ...           ...  ...  ...   ...    ...   \n",
       "flag_S1         125973.0      0.002897  5.375011e-02  0.0  0.0   0.0    0.0   \n",
       "flag_S2         125973.0      0.001008  3.173553e-02  0.0  0.0   0.0    0.0   \n",
       "flag_S3         125973.0      0.000389  1.971862e-02  0.0  0.0   0.0    0.0   \n",
       "flag_SF         125973.0      0.594929  4.909077e-01  0.0  0.0   1.0    1.0   \n",
       "flag_SH         125973.0      0.002151  4.633189e-02  0.0  0.0   0.0    0.0   \n",
       "\n",
       "                         max  \n",
       "duration        4.290800e+04  \n",
       "src_bytes       1.379964e+09  \n",
       "dst_bytes       1.309937e+09  \n",
       "land            1.000000e+00  \n",
       "wrong_fragment  3.000000e+00  \n",
       "...                      ...  \n",
       "flag_S1         1.000000e+00  \n",
       "flag_S2         1.000000e+00  \n",
       "flag_S3         1.000000e+00  \n",
       "flag_SF         1.000000e+00  \n",
       "flag_SH         1.000000e+00  \n",
       "\n",
       "[118 rows x 8 columns]"
      ]
     },
     "execution_count": 216,
     "metadata": {},
     "output_type": "execute_result"
    }
   ],
   "source": [
    "x_train.describe().transpose()"
   ]
  },
  {
   "cell_type": "code",
   "execution_count": 217,
   "id": "63086824",
   "metadata": {
    "scrolled": true
   },
   "outputs": [
    {
     "data": {
      "text/html": [
       "<div>\n",
       "<style scoped>\n",
       "    .dataframe tbody tr th:only-of-type {\n",
       "        vertical-align: middle;\n",
       "    }\n",
       "\n",
       "    .dataframe tbody tr th {\n",
       "        vertical-align: top;\n",
       "    }\n",
       "\n",
       "    .dataframe thead th {\n",
       "        text-align: right;\n",
       "    }\n",
       "</style>\n",
       "<table border=\"1\" class=\"dataframe\">\n",
       "  <thead>\n",
       "    <tr style=\"text-align: right;\">\n",
       "      <th></th>\n",
       "      <th>count</th>\n",
       "      <th>mean</th>\n",
       "      <th>std</th>\n",
       "      <th>min</th>\n",
       "      <th>25%</th>\n",
       "      <th>50%</th>\n",
       "      <th>75%</th>\n",
       "      <th>max</th>\n",
       "    </tr>\n",
       "  </thead>\n",
       "  <tbody>\n",
       "    <tr>\n",
       "      <th>duration</th>\n",
       "      <td>22544.0</td>\n",
       "      <td>218.859076</td>\n",
       "      <td>1407.176612</td>\n",
       "      <td>0.0</td>\n",
       "      <td>0.0</td>\n",
       "      <td>0.0</td>\n",
       "      <td>0.0</td>\n",
       "      <td>57715.0</td>\n",
       "    </tr>\n",
       "    <tr>\n",
       "      <th>src_bytes</th>\n",
       "      <td>22544.0</td>\n",
       "      <td>10395.450231</td>\n",
       "      <td>472786.431088</td>\n",
       "      <td>0.0</td>\n",
       "      <td>0.0</td>\n",
       "      <td>54.0</td>\n",
       "      <td>287.0</td>\n",
       "      <td>62825648.0</td>\n",
       "    </tr>\n",
       "    <tr>\n",
       "      <th>dst_bytes</th>\n",
       "      <td>22544.0</td>\n",
       "      <td>2056.018808</td>\n",
       "      <td>21219.297609</td>\n",
       "      <td>0.0</td>\n",
       "      <td>0.0</td>\n",
       "      <td>46.0</td>\n",
       "      <td>601.0</td>\n",
       "      <td>1345927.0</td>\n",
       "    </tr>\n",
       "    <tr>\n",
       "      <th>land</th>\n",
       "      <td>22544.0</td>\n",
       "      <td>0.000311</td>\n",
       "      <td>0.017619</td>\n",
       "      <td>0.0</td>\n",
       "      <td>0.0</td>\n",
       "      <td>0.0</td>\n",
       "      <td>0.0</td>\n",
       "      <td>1.0</td>\n",
       "    </tr>\n",
       "    <tr>\n",
       "      <th>wrong_fragment</th>\n",
       "      <td>22544.0</td>\n",
       "      <td>0.008428</td>\n",
       "      <td>0.142599</td>\n",
       "      <td>0.0</td>\n",
       "      <td>0.0</td>\n",
       "      <td>0.0</td>\n",
       "      <td>0.0</td>\n",
       "      <td>3.0</td>\n",
       "    </tr>\n",
       "    <tr>\n",
       "      <th>...</th>\n",
       "      <td>...</td>\n",
       "      <td>...</td>\n",
       "      <td>...</td>\n",
       "      <td>...</td>\n",
       "      <td>...</td>\n",
       "      <td>...</td>\n",
       "      <td>...</td>\n",
       "      <td>...</td>\n",
       "    </tr>\n",
       "    <tr>\n",
       "      <th>flag_S1</th>\n",
       "      <td>22544.0</td>\n",
       "      <td>0.000932</td>\n",
       "      <td>0.030507</td>\n",
       "      <td>0.0</td>\n",
       "      <td>0.0</td>\n",
       "      <td>0.0</td>\n",
       "      <td>0.0</td>\n",
       "      <td>1.0</td>\n",
       "    </tr>\n",
       "    <tr>\n",
       "      <th>flag_S2</th>\n",
       "      <td>22544.0</td>\n",
       "      <td>0.000665</td>\n",
       "      <td>0.025787</td>\n",
       "      <td>0.0</td>\n",
       "      <td>0.0</td>\n",
       "      <td>0.0</td>\n",
       "      <td>0.0</td>\n",
       "      <td>1.0</td>\n",
       "    </tr>\n",
       "    <tr>\n",
       "      <th>flag_S3</th>\n",
       "      <td>22544.0</td>\n",
       "      <td>0.011045</td>\n",
       "      <td>0.104516</td>\n",
       "      <td>0.0</td>\n",
       "      <td>0.0</td>\n",
       "      <td>0.0</td>\n",
       "      <td>0.0</td>\n",
       "      <td>1.0</td>\n",
       "    </tr>\n",
       "    <tr>\n",
       "      <th>flag_SF</th>\n",
       "      <td>22544.0</td>\n",
       "      <td>0.659821</td>\n",
       "      <td>0.473780</td>\n",
       "      <td>0.0</td>\n",
       "      <td>0.0</td>\n",
       "      <td>1.0</td>\n",
       "      <td>1.0</td>\n",
       "      <td>1.0</td>\n",
       "    </tr>\n",
       "    <tr>\n",
       "      <th>flag_SH</th>\n",
       "      <td>22544.0</td>\n",
       "      <td>0.003238</td>\n",
       "      <td>0.056813</td>\n",
       "      <td>0.0</td>\n",
       "      <td>0.0</td>\n",
       "      <td>0.0</td>\n",
       "      <td>0.0</td>\n",
       "      <td>1.0</td>\n",
       "    </tr>\n",
       "  </tbody>\n",
       "</table>\n",
       "<p>118 rows × 8 columns</p>\n",
       "</div>"
      ],
      "text/plain": [
       "                  count          mean            std  min  25%   50%    75%  \\\n",
       "duration        22544.0    218.859076    1407.176612  0.0  0.0   0.0    0.0   \n",
       "src_bytes       22544.0  10395.450231  472786.431088  0.0  0.0  54.0  287.0   \n",
       "dst_bytes       22544.0   2056.018808   21219.297609  0.0  0.0  46.0  601.0   \n",
       "land            22544.0      0.000311       0.017619  0.0  0.0   0.0    0.0   \n",
       "wrong_fragment  22544.0      0.008428       0.142599  0.0  0.0   0.0    0.0   \n",
       "...                 ...           ...            ...  ...  ...   ...    ...   \n",
       "flag_S1         22544.0      0.000932       0.030507  0.0  0.0   0.0    0.0   \n",
       "flag_S2         22544.0      0.000665       0.025787  0.0  0.0   0.0    0.0   \n",
       "flag_S3         22544.0      0.011045       0.104516  0.0  0.0   0.0    0.0   \n",
       "flag_SF         22544.0      0.659821       0.473780  0.0  0.0   1.0    1.0   \n",
       "flag_SH         22544.0      0.003238       0.056813  0.0  0.0   0.0    0.0   \n",
       "\n",
       "                       max  \n",
       "duration           57715.0  \n",
       "src_bytes       62825648.0  \n",
       "dst_bytes        1345927.0  \n",
       "land                   1.0  \n",
       "wrong_fragment         3.0  \n",
       "...                    ...  \n",
       "flag_S1                1.0  \n",
       "flag_S2                1.0  \n",
       "flag_S3                1.0  \n",
       "flag_SF                1.0  \n",
       "flag_SH                1.0  \n",
       "\n",
       "[118 rows x 8 columns]"
      ]
     },
     "execution_count": 217,
     "metadata": {},
     "output_type": "execute_result"
    }
   ],
   "source": [
    "x_test.describe().transpose()"
   ]
  },
  {
   "cell_type": "code",
   "execution_count": 218,
   "id": "7fffa458",
   "metadata": {},
   "outputs": [],
   "source": [
    "scaler1 = preprocessing.StandardScaler().fit(x_train)\n",
    "x_train=scaler1.transform(x_train)\n",
    "\n",
    "scaler2 = preprocessing.StandardScaler().fit(x_test)\n",
    "x_test=scaler2.transform(x_test) "
   ]
  },
  {
   "cell_type": "code",
   "execution_count": 219,
   "id": "c9773d07",
   "metadata": {
    "scrolled": false
   },
   "outputs": [
    {
     "name": "stdout",
     "output_type": "stream",
     "text": [
      "training_set\n",
      "[1. 1. 1. 1. 1. 1. 1. 1. 1. 1. 1. 1. 1. 1. 1. 1. 1. 1. 1. 1. 1. 1. 1. 1.\n",
      " 1. 1. 1. 1. 1. 1. 1. 1. 1. 1. 1. 1. 1. 1. 1. 1. 1. 1. 1. 1. 1. 1. 1. 1.\n",
      " 1. 1. 1. 1. 1. 1. 1. 1. 1. 1. 1. 1. 1. 1. 1. 1. 1. 1. 1. 1. 1. 1. 1. 1.\n",
      " 1. 1. 1. 1. 1. 1. 1. 1. 1. 1. 1. 1. 1. 1. 1. 1. 1. 1. 1. 1. 1. 1. 1. 1.\n",
      " 1. 1. 1. 1. 1. 1. 1. 1. 1. 1. 1. 1. 1. 1. 1. 1. 1. 1. 1. 1. 1. 1.]\n",
      "\n",
      "test_set\n",
      "[1. 1. 1. 1. 1. 1. 1. 1. 1. 1. 1. 1. 1. 1. 1. 1. 1. 1. 1. 1. 1. 1. 1. 1.\n",
      " 1. 1. 1. 1. 1. 1. 1. 1. 1. 1. 1. 1. 1. 1. 1. 1. 1. 0. 1. 1. 1. 1. 1. 1.\n",
      " 1. 1. 1. 1. 1. 1. 1. 1. 1. 1. 1. 1. 0. 1. 1. 0. 1. 0. 1. 1. 1. 1. 1. 1.\n",
      " 1. 1. 1. 1. 1. 1. 1. 1. 1. 1. 1. 1. 1. 1. 1. 1. 0. 1. 1. 1. 1. 1. 1. 1.\n",
      " 1. 1. 1. 1. 1. 1. 0. 1. 1. 1. 1. 1. 1. 1. 1. 1. 1. 1. 1. 1. 1. 1.]\n"
     ]
    }
   ],
   "source": [
    "# print variance for dataset\n",
    "print(\"training_set\")\n",
    "print(x_train.std(axis=0))\n",
    "print()\n",
    "print(\"test_set\")\n",
    "print(x_test.std(axis=0))"
   ]
  },
  {
   "cell_type": "code",
   "execution_count": 220,
   "id": "fd2e0d19",
   "metadata": {},
   "outputs": [],
   "source": [
    "# We will need later - splitting df_train:\n",
    "# 1/3 test set\n",
    "# 2/3 training set\n",
    "x_train_split, x_test_split, y_train_split, y_test_split = train_test_split(x_train,y_train, test_size=0.33)"
   ]
  },
  {
   "cell_type": "markdown",
   "id": "1f8e702c",
   "metadata": {},
   "source": [
    "# Classification with DECISION TREE"
   ]
  },
  {
   "cell_type": "markdown",
   "id": "128b2828",
   "metadata": {},
   "source": [
    "## Training decision Tree with training_set"
   ]
  },
  {
   "cell_type": "code",
   "execution_count": 221,
   "id": "c693c6f8",
   "metadata": {},
   "outputs": [
    {
     "data": {
      "text/html": [
       "<div>\n",
       "<style scoped>\n",
       "    .dataframe tbody tr th:only-of-type {\n",
       "        vertical-align: middle;\n",
       "    }\n",
       "\n",
       "    .dataframe tbody tr th {\n",
       "        vertical-align: top;\n",
       "    }\n",
       "\n",
       "    .dataframe thead th {\n",
       "        text-align: right;\n",
       "    }\n",
       "</style>\n",
       "<table border=\"1\" class=\"dataframe\">\n",
       "  <thead>\n",
       "    <tr style=\"text-align: right;\">\n",
       "      <th>Predicted attacks</th>\n",
       "      <th>benign</th>\n",
       "      <th>dos</th>\n",
       "      <th>probe</th>\n",
       "      <th>r2l</th>\n",
       "    </tr>\n",
       "    <tr>\n",
       "      <th>Actual attacks</th>\n",
       "      <th></th>\n",
       "      <th></th>\n",
       "      <th></th>\n",
       "      <th></th>\n",
       "    </tr>\n",
       "  </thead>\n",
       "  <tbody>\n",
       "    <tr>\n",
       "      <th>benign</th>\n",
       "      <td>8225</td>\n",
       "      <td>768</td>\n",
       "      <td>718</td>\n",
       "      <td>0</td>\n",
       "    </tr>\n",
       "    <tr>\n",
       "      <th>dos</th>\n",
       "      <td>1015</td>\n",
       "      <td>6089</td>\n",
       "      <td>354</td>\n",
       "      <td>0</td>\n",
       "    </tr>\n",
       "    <tr>\n",
       "      <th>probe</th>\n",
       "      <td>73</td>\n",
       "      <td>554</td>\n",
       "      <td>1796</td>\n",
       "      <td>0</td>\n",
       "    </tr>\n",
       "    <tr>\n",
       "      <th>r2l</th>\n",
       "      <td>1110</td>\n",
       "      <td>820</td>\n",
       "      <td>800</td>\n",
       "      <td>155</td>\n",
       "    </tr>\n",
       "    <tr>\n",
       "      <th>u2r</th>\n",
       "      <td>13</td>\n",
       "      <td>25</td>\n",
       "      <td>29</td>\n",
       "      <td>0</td>\n",
       "    </tr>\n",
       "  </tbody>\n",
       "</table>\n",
       "</div>"
      ],
      "text/plain": [
       "Predicted attacks  benign   dos  probe  r2l\n",
       "Actual attacks                             \n",
       "benign               8225   768    718    0\n",
       "dos                  1015  6089    354    0\n",
       "probe                  73   554   1796    0\n",
       "r2l                  1110   820    800  155\n",
       "u2r                    13    25     29    0"
      ]
     },
     "execution_count": 221,
     "metadata": {},
     "output_type": "execute_result"
    }
   ],
   "source": [
    "# classifier declaration\n",
    "clf_dt = tree.DecisionTreeClassifier(random_state=0, min_samples_leaf=7)\n",
    "\n",
    "# training with training_set\n",
    "clf_dt = clf_dt.fit(x_train, y_train)\n",
    "\n",
    "# prediction\n",
    "y_pred_dt = clf_dt.predict(x_test)\n",
    "\n",
    "# confusion matrix\n",
    "pd.crosstab(y_test, y_pred_dt, rownames=['Actual attacks'], colnames=['Predicted attacks'])"
   ]
  },
  {
   "cell_type": "code",
   "execution_count": 222,
   "id": "3c366e63",
   "metadata": {
    "scrolled": false
   },
   "outputs": [
    {
     "name": "stdout",
     "output_type": "stream",
     "text": [
      "***METRICS EVALUATING TEST SET***\n",
      "\n",
      "accuracy:  0.7214779985805536\n",
      "\n",
      "              precision    recall  f1-score   support\n",
      "\n",
      "      benign       0.79      0.85      0.82      9711\n",
      "         dos       0.74      0.82      0.77      7458\n",
      "         u2r       0.49      0.74      0.59      2423\n",
      "         r2l       1.00      0.05      0.10      2885\n",
      "       probe       0.00      0.00      0.00        67\n",
      "\n",
      "    accuracy                           0.72     22544\n",
      "   macro avg       0.60      0.49      0.46     22544\n",
      "weighted avg       0.76      0.72      0.68     22544\n",
      "\n"
     ]
    }
   ],
   "source": [
    "print(\"***METRICS EVALUATING TEST SET***\") \n",
    "print()\n",
    "print(\"accuracy: \",clf_dt.score(x_test,y_test))\n",
    "print()\n",
    "print(classification_report(y_test, y_pred_dt, target_names=category, zero_division=0))"
   ]
  },
  {
   "cell_type": "markdown",
   "id": "d7e35e10",
   "metadata": {},
   "source": [
    "## Training Decision Tree with train_splitted"
   ]
  },
  {
   "cell_type": "code",
   "execution_count": 223,
   "id": "c65c857a",
   "metadata": {},
   "outputs": [
    {
     "data": {
      "text/html": [
       "<div>\n",
       "<style scoped>\n",
       "    .dataframe tbody tr th:only-of-type {\n",
       "        vertical-align: middle;\n",
       "    }\n",
       "\n",
       "    .dataframe tbody tr th {\n",
       "        vertical-align: top;\n",
       "    }\n",
       "\n",
       "    .dataframe thead th {\n",
       "        text-align: right;\n",
       "    }\n",
       "</style>\n",
       "<table border=\"1\" class=\"dataframe\">\n",
       "  <thead>\n",
       "    <tr style=\"text-align: right;\">\n",
       "      <th>Predicted attacks</th>\n",
       "      <th>benign</th>\n",
       "      <th>dos</th>\n",
       "      <th>probe</th>\n",
       "      <th>r2l</th>\n",
       "      <th>u2r</th>\n",
       "    </tr>\n",
       "    <tr>\n",
       "      <th>Actual attacks</th>\n",
       "      <th></th>\n",
       "      <th></th>\n",
       "      <th></th>\n",
       "      <th></th>\n",
       "      <th></th>\n",
       "    </tr>\n",
       "  </thead>\n",
       "  <tbody>\n",
       "    <tr>\n",
       "      <th>benign</th>\n",
       "      <td>22077</td>\n",
       "      <td>15</td>\n",
       "      <td>28</td>\n",
       "      <td>9</td>\n",
       "      <td>2</td>\n",
       "    </tr>\n",
       "    <tr>\n",
       "      <th>dos</th>\n",
       "      <td>17</td>\n",
       "      <td>15215</td>\n",
       "      <td>7</td>\n",
       "      <td>0</td>\n",
       "      <td>0</td>\n",
       "    </tr>\n",
       "    <tr>\n",
       "      <th>probe</th>\n",
       "      <td>29</td>\n",
       "      <td>16</td>\n",
       "      <td>3810</td>\n",
       "      <td>6</td>\n",
       "      <td>0</td>\n",
       "    </tr>\n",
       "    <tr>\n",
       "      <th>r2l</th>\n",
       "      <td>11</td>\n",
       "      <td>0</td>\n",
       "      <td>1</td>\n",
       "      <td>311</td>\n",
       "      <td>2</td>\n",
       "    </tr>\n",
       "    <tr>\n",
       "      <th>u2r</th>\n",
       "      <td>6</td>\n",
       "      <td>0</td>\n",
       "      <td>0</td>\n",
       "      <td>0</td>\n",
       "      <td>10</td>\n",
       "    </tr>\n",
       "  </tbody>\n",
       "</table>\n",
       "</div>"
      ],
      "text/plain": [
       "Predicted attacks  benign    dos  probe  r2l  u2r\n",
       "Actual attacks                                   \n",
       "benign              22077     15     28    9    2\n",
       "dos                    17  15215      7    0    0\n",
       "probe                  29     16   3810    6    0\n",
       "r2l                    11      0      1  311    2\n",
       "u2r                     6      0      0    0   10"
      ]
     },
     "execution_count": 223,
     "metadata": {},
     "output_type": "execute_result"
    }
   ],
   "source": [
    "# declaration of new classifier\n",
    "clf_dt_split = tree.DecisionTreeClassifier(random_state=0, min_samples_leaf=7)\n",
    "\n",
    "# training with training_set\n",
    "clf_dt_split = clf_dt_split.fit(x_train_split, y_train_split)\n",
    "\n",
    "# prediction\n",
    "y_pred_dt_split = clf_dt_split.predict(x_test_split)\n",
    "\n",
    "# confusion matrix\n",
    "pd.crosstab(y_test_split, y_pred_dt_split, rownames=['Actual attacks'], colnames=['Predicted attacks'])"
   ]
  },
  {
   "cell_type": "code",
   "execution_count": 224,
   "id": "2bb8a9f4",
   "metadata": {},
   "outputs": [
    {
     "name": "stdout",
     "output_type": "stream",
     "text": [
      "***METRICS EVALUATING TEST SET WITH TRAINING WITH 1/3 OF TEST SPLIT TAKEN FROM TRAINING SET***\n",
      "\n",
      "accuracy:  0.9981279842655892\n",
      "\n",
      "              precision    recall  f1-score   support\n",
      "\n",
      "      benign       1.00      1.00      1.00     22131\n",
      "         dos       1.00      1.00      1.00     15239\n",
      "         u2r       0.99      0.99      0.99      3861\n",
      "         r2l       0.95      0.96      0.96       325\n",
      "       probe       0.71      0.62      0.67        16\n",
      "\n",
      "    accuracy                           1.00     41572\n",
      "   macro avg       0.93      0.91      0.92     41572\n",
      "weighted avg       1.00      1.00      1.00     41572\n",
      "\n"
     ]
    }
   ],
   "source": [
    "print(\"***METRICS EVALUATING TEST SET WITH TRAINING WITH 1/3 OF TEST SPLIT TAKEN FROM TRAINING SET***\") \n",
    "print()\n",
    "print(\"accuracy: \",clf_dt.score(x_train_split,y_train_split))\n",
    "print()\n",
    "print(classification_report(y_test_split, y_pred_dt_split, target_names=category))"
   ]
  },
  {
   "cell_type": "markdown",
   "id": "e04ed7a8",
   "metadata": {},
   "source": [
    "# 2 - Classification with RANDOM FOREST"
   ]
  },
  {
   "cell_type": "markdown",
   "id": "91ee0485",
   "metadata": {},
   "source": [
    "## Training RANDOM FOREST with training set"
   ]
  },
  {
   "cell_type": "code",
   "execution_count": 225,
   "id": "419925dc",
   "metadata": {},
   "outputs": [
    {
     "name": "stdout",
     "output_type": "stream",
     "text": [
      "9.156773257999703 seconds\n"
     ]
    }
   ],
   "source": [
    "start_time = time.perf_counter()\n",
    "\n",
    "cfl_rf = RandomForestClassifier(n_estimators=100, criterion = 'gini', random_state = 0)\n",
    "cfl_rf.fit(x_train, y_train)\n",
    "\n",
    "end_time = time.perf_counter()\n",
    "\n",
    "print(end_time - start_time, \"seconds\")"
   ]
  },
  {
   "cell_type": "code",
   "execution_count": 226,
   "id": "d9f91b0c",
   "metadata": {},
   "outputs": [
    {
     "data": {
      "text/html": [
       "<div>\n",
       "<style scoped>\n",
       "    .dataframe tbody tr th:only-of-type {\n",
       "        vertical-align: middle;\n",
       "    }\n",
       "\n",
       "    .dataframe tbody tr th {\n",
       "        vertical-align: top;\n",
       "    }\n",
       "\n",
       "    .dataframe thead th {\n",
       "        text-align: right;\n",
       "    }\n",
       "</style>\n",
       "<table border=\"1\" class=\"dataframe\">\n",
       "  <thead>\n",
       "    <tr style=\"text-align: right;\">\n",
       "      <th>Predicted attacks</th>\n",
       "      <th>benign</th>\n",
       "      <th>dos</th>\n",
       "      <th>probe</th>\n",
       "      <th>r2l</th>\n",
       "    </tr>\n",
       "    <tr>\n",
       "      <th>Actual attacks</th>\n",
       "      <th></th>\n",
       "      <th></th>\n",
       "      <th></th>\n",
       "      <th></th>\n",
       "    </tr>\n",
       "  </thead>\n",
       "  <tbody>\n",
       "    <tr>\n",
       "      <th>benign</th>\n",
       "      <td>9192</td>\n",
       "      <td>63</td>\n",
       "      <td>456</td>\n",
       "      <td>0</td>\n",
       "    </tr>\n",
       "    <tr>\n",
       "      <th>dos</th>\n",
       "      <td>2400</td>\n",
       "      <td>1912</td>\n",
       "      <td>3146</td>\n",
       "      <td>0</td>\n",
       "    </tr>\n",
       "    <tr>\n",
       "      <th>probe</th>\n",
       "      <td>676</td>\n",
       "      <td>166</td>\n",
       "      <td>1581</td>\n",
       "      <td>0</td>\n",
       "    </tr>\n",
       "    <tr>\n",
       "      <th>r2l</th>\n",
       "      <td>2777</td>\n",
       "      <td>0</td>\n",
       "      <td>107</td>\n",
       "      <td>1</td>\n",
       "    </tr>\n",
       "    <tr>\n",
       "      <th>u2r</th>\n",
       "      <td>67</td>\n",
       "      <td>0</td>\n",
       "      <td>0</td>\n",
       "      <td>0</td>\n",
       "    </tr>\n",
       "  </tbody>\n",
       "</table>\n",
       "</div>"
      ],
      "text/plain": [
       "Predicted attacks  benign   dos  probe  r2l\n",
       "Actual attacks                             \n",
       "benign               9192    63    456    0\n",
       "dos                  2400  1912   3146    0\n",
       "probe                 676   166   1581    0\n",
       "r2l                  2777     0    107    1\n",
       "u2r                    67     0      0    0"
      ]
     },
     "execution_count": 226,
     "metadata": {},
     "output_type": "execute_result"
    }
   ],
   "source": [
    "# Apply the classifier we trained to the test data (which it has never seen before)\n",
    "y_pred_rf=cfl_rf.predict(x_test)\n",
    "\n",
    "# Create confusion matrix\n",
    "pd.crosstab(y_test, y_pred_rf, rownames=['Actual attacks'], colnames=['Predicted attacks'])"
   ]
  },
  {
   "cell_type": "code",
   "execution_count": 227,
   "id": "6367db48",
   "metadata": {
    "scrolled": true
   },
   "outputs": [
    {
     "name": "stdout",
     "output_type": "stream",
     "text": [
      "***METRICS EVALUATING TEST SET***\n",
      "\n",
      "accuracy:  0.999944432537131\n",
      "\n",
      "              precision    recall  f1-score   support\n",
      "\n",
      "      benign       0.61      0.95      0.74      9711\n",
      "         dos       0.89      0.26      0.40      7458\n",
      "         u2r       0.30      0.65      0.41      2423\n",
      "         r2l       1.00      0.00      0.00      2885\n",
      "       probe       0.00      0.00      0.00        67\n",
      "\n",
      "    accuracy                           0.56     22544\n",
      "   macro avg       0.56      0.37      0.31     22544\n",
      "weighted avg       0.72      0.56      0.49     22544\n",
      "\n"
     ]
    }
   ],
   "source": [
    "print(\"***METRICS EVALUATING TEST SET***\")\n",
    "print()\n",
    "print(\"accuracy: \",cfl_rf.score(x_train, y_train))\n",
    "print()\n",
    "print(classification_report(y_test, y_pred_rf, target_names=category, zero_division=0))"
   ]
  },
  {
   "cell_type": "markdown",
   "id": "86b75248",
   "metadata": {},
   "source": [
    "## Training RANDOM FOREST with training_split set"
   ]
  },
  {
   "cell_type": "code",
   "execution_count": 228,
   "id": "f0a31ce3",
   "metadata": {},
   "outputs": [
    {
     "name": "stdout",
     "output_type": "stream",
     "text": [
      "9.022086554999987 seconds\n"
     ]
    }
   ],
   "source": [
    "start_time = time.perf_counter()\n",
    "\n",
    "cfl_rf_split = RandomForestClassifier(n_estimators=100, criterion = 'gini', random_state = 0)\n",
    "cfl_rf_split.fit(x_train_split, y_train_split)\n",
    "\n",
    "end_time = time.perf_counter()\n",
    "\n",
    "print(end_time - start_time, \"seconds\")"
   ]
  },
  {
   "cell_type": "code",
   "execution_count": 229,
   "id": "b034f10e",
   "metadata": {},
   "outputs": [
    {
     "data": {
      "text/html": [
       "<div>\n",
       "<style scoped>\n",
       "    .dataframe tbody tr th:only-of-type {\n",
       "        vertical-align: middle;\n",
       "    }\n",
       "\n",
       "    .dataframe tbody tr th {\n",
       "        vertical-align: top;\n",
       "    }\n",
       "\n",
       "    .dataframe thead th {\n",
       "        text-align: right;\n",
       "    }\n",
       "</style>\n",
       "<table border=\"1\" class=\"dataframe\">\n",
       "  <thead>\n",
       "    <tr style=\"text-align: right;\">\n",
       "      <th>Predicted attacks</th>\n",
       "      <th>benign</th>\n",
       "      <th>dos</th>\n",
       "      <th>probe</th>\n",
       "      <th>r2l</th>\n",
       "      <th>u2r</th>\n",
       "    </tr>\n",
       "    <tr>\n",
       "      <th>Actual attacks</th>\n",
       "      <th></th>\n",
       "      <th></th>\n",
       "      <th></th>\n",
       "      <th></th>\n",
       "      <th></th>\n",
       "    </tr>\n",
       "  </thead>\n",
       "  <tbody>\n",
       "    <tr>\n",
       "      <th>benign</th>\n",
       "      <td>22122</td>\n",
       "      <td>5</td>\n",
       "      <td>4</td>\n",
       "      <td>0</td>\n",
       "      <td>0</td>\n",
       "    </tr>\n",
       "    <tr>\n",
       "      <th>dos</th>\n",
       "      <td>1</td>\n",
       "      <td>15237</td>\n",
       "      <td>1</td>\n",
       "      <td>0</td>\n",
       "      <td>0</td>\n",
       "    </tr>\n",
       "    <tr>\n",
       "      <th>probe</th>\n",
       "      <td>17</td>\n",
       "      <td>0</td>\n",
       "      <td>3844</td>\n",
       "      <td>0</td>\n",
       "      <td>0</td>\n",
       "    </tr>\n",
       "    <tr>\n",
       "      <th>r2l</th>\n",
       "      <td>10</td>\n",
       "      <td>0</td>\n",
       "      <td>0</td>\n",
       "      <td>315</td>\n",
       "      <td>0</td>\n",
       "    </tr>\n",
       "    <tr>\n",
       "      <th>u2r</th>\n",
       "      <td>8</td>\n",
       "      <td>0</td>\n",
       "      <td>0</td>\n",
       "      <td>0</td>\n",
       "      <td>8</td>\n",
       "    </tr>\n",
       "  </tbody>\n",
       "</table>\n",
       "</div>"
      ],
      "text/plain": [
       "Predicted attacks  benign    dos  probe  r2l  u2r\n",
       "Actual attacks                                   \n",
       "benign              22122      5      4    0    0\n",
       "dos                     1  15237      1    0    0\n",
       "probe                  17      0   3844    0    0\n",
       "r2l                    10      0      0  315    0\n",
       "u2r                     8      0      0    0    8"
      ]
     },
     "execution_count": 229,
     "metadata": {},
     "output_type": "execute_result"
    }
   ],
   "source": [
    "# Apply the classifier we trained to the test data (which it has never seen before)\n",
    "y_pred_rf_split=cfl_rf_split.predict(x_test_split)\n",
    "\n",
    "# Create confusion matrix\n",
    "pd.crosstab(y_test_split, y_pred_rf_split, rownames=['Actual attacks'], colnames=['Predicted attacks'])"
   ]
  },
  {
   "cell_type": "code",
   "execution_count": 230,
   "id": "922f8df1",
   "metadata": {
    "scrolled": false
   },
   "outputs": [
    {
     "name": "stdout",
     "output_type": "stream",
     "text": [
      "***METRICS EVALUATING TEST SET with splitted***\n",
      "\n",
      "accuracy:  0.9999644553974479\n",
      "\n",
      "              precision    recall  f1-score   support\n",
      "\n",
      "      benign       1.00      1.00      1.00     22131\n",
      "         dos       1.00      1.00      1.00     15239\n",
      "         u2r       1.00      1.00      1.00      3861\n",
      "         r2l       1.00      0.97      0.98       325\n",
      "       probe       1.00      0.50      0.67        16\n",
      "\n",
      "    accuracy                           1.00     41572\n",
      "   macro avg       1.00      0.89      0.93     41572\n",
      "weighted avg       1.00      1.00      1.00     41572\n",
      "\n"
     ]
    }
   ],
   "source": [
    "print(\"***METRICS EVALUATING TEST SET with splitted***\")\n",
    "print()\n",
    "print(\"accuracy: \",cfl_rf.score(x_train_split, y_train_split))\n",
    "print()\n",
    "print(classification_report(y_test_split, y_pred_rf_split, target_names=category, zero_division=0))"
   ]
  },
  {
   "cell_type": "markdown",
   "id": "b43f75f5",
   "metadata": {},
   "source": [
    "# Classification with Naive Bayes"
   ]
  },
  {
   "cell_type": "code",
   "execution_count": 231,
   "id": "59790f25",
   "metadata": {},
   "outputs": [
    {
     "data": {
      "text/html": [
       "<div>\n",
       "<style scoped>\n",
       "    .dataframe tbody tr th:only-of-type {\n",
       "        vertical-align: middle;\n",
       "    }\n",
       "\n",
       "    .dataframe tbody tr th {\n",
       "        vertical-align: top;\n",
       "    }\n",
       "\n",
       "    .dataframe thead th {\n",
       "        text-align: right;\n",
       "    }\n",
       "</style>\n",
       "<table border=\"1\" class=\"dataframe\">\n",
       "  <thead>\n",
       "    <tr style=\"text-align: right;\">\n",
       "      <th>Predicted attacks</th>\n",
       "      <th>benign</th>\n",
       "      <th>dos</th>\n",
       "      <th>probe</th>\n",
       "      <th>r2l</th>\n",
       "    </tr>\n",
       "    <tr>\n",
       "      <th>Actual attacks</th>\n",
       "      <th></th>\n",
       "      <th></th>\n",
       "      <th></th>\n",
       "      <th></th>\n",
       "    </tr>\n",
       "  </thead>\n",
       "  <tbody>\n",
       "    <tr>\n",
       "      <th>benign</th>\n",
       "      <td>81</td>\n",
       "      <td>52</td>\n",
       "      <td>9578</td>\n",
       "      <td>0</td>\n",
       "    </tr>\n",
       "    <tr>\n",
       "      <th>dos</th>\n",
       "      <td>12</td>\n",
       "      <td>48</td>\n",
       "      <td>7398</td>\n",
       "      <td>0</td>\n",
       "    </tr>\n",
       "    <tr>\n",
       "      <th>probe</th>\n",
       "      <td>0</td>\n",
       "      <td>0</td>\n",
       "      <td>2423</td>\n",
       "      <td>0</td>\n",
       "    </tr>\n",
       "    <tr>\n",
       "      <th>r2l</th>\n",
       "      <td>22</td>\n",
       "      <td>0</td>\n",
       "      <td>2862</td>\n",
       "      <td>1</td>\n",
       "    </tr>\n",
       "    <tr>\n",
       "      <th>u2r</th>\n",
       "      <td>40</td>\n",
       "      <td>0</td>\n",
       "      <td>27</td>\n",
       "      <td>0</td>\n",
       "    </tr>\n",
       "  </tbody>\n",
       "</table>\n",
       "</div>"
      ],
      "text/plain": [
       "Predicted attacks  benign  dos  probe  r2l\n",
       "Actual attacks                            \n",
       "benign                 81   52   9578    0\n",
       "dos                    12   48   7398    0\n",
       "probe                   0    0   2423    0\n",
       "r2l                    22    0   2862    1\n",
       "u2r                    40    0     27    0"
      ]
     },
     "execution_count": 231,
     "metadata": {},
     "output_type": "execute_result"
    }
   ],
   "source": [
    "#Create a Gaussian Classifier\n",
    "clf_bayes = GaussianNB()\n",
    "\n",
    "# Train the model using the training sets\n",
    "clf_bayes.fit(x_train,y_train)\n",
    "\n",
    "y_pred_bayes=clf_bayes.predict(x_test)\n",
    "\n",
    "pd.crosstab(y_test, y_pred_bayes, rownames=['Actual attacks'], colnames=['Predicted attacks'])"
   ]
  },
  {
   "cell_type": "code",
   "execution_count": 232,
   "id": "f7be3c83",
   "metadata": {},
   "outputs": [
    {
     "name": "stdout",
     "output_type": "stream",
     "text": [
      "***METRICS EVALUATING TEST SET***\n",
      "\n",
      "accuracy:  0.650671175569368\n",
      "\n",
      "              precision    recall  f1-score   support\n",
      "\n",
      "      benign       0.52      0.01      0.02      9711\n",
      "         dos       0.48      0.01      0.01      7458\n",
      "         u2r       0.11      1.00      0.20      2423\n",
      "         r2l       1.00      0.00      0.00      2885\n",
      "       probe       0.00      0.00      0.00        67\n",
      "\n",
      "    accuracy                           0.11     22544\n",
      "   macro avg       0.42      0.20      0.05     22544\n",
      "weighted avg       0.52      0.11      0.03     22544\n",
      "\n"
     ]
    }
   ],
   "source": [
    "print(\"***METRICS EVALUATING TEST SET***\")\n",
    "print()\n",
    "print(\"accuracy: \",clf_bayes.score(x_train, y_train))\n",
    "print()\n",
    "print(classification_report(y_test, y_pred_bayes, target_names=category, zero_division=0))"
   ]
  },
  {
   "cell_type": "markdown",
   "id": "104321b5",
   "metadata": {},
   "source": [
    "## Training NAIVE BAYES with training split set"
   ]
  },
  {
   "cell_type": "code",
   "execution_count": 233,
   "id": "ea54a2c5",
   "metadata": {},
   "outputs": [
    {
     "data": {
      "text/html": [
       "<div>\n",
       "<style scoped>\n",
       "    .dataframe tbody tr th:only-of-type {\n",
       "        vertical-align: middle;\n",
       "    }\n",
       "\n",
       "    .dataframe tbody tr th {\n",
       "        vertical-align: top;\n",
       "    }\n",
       "\n",
       "    .dataframe thead th {\n",
       "        text-align: right;\n",
       "    }\n",
       "</style>\n",
       "<table border=\"1\" class=\"dataframe\">\n",
       "  <thead>\n",
       "    <tr style=\"text-align: right;\">\n",
       "      <th>Predicted attacks</th>\n",
       "      <th>benign</th>\n",
       "      <th>dos</th>\n",
       "      <th>probe</th>\n",
       "      <th>r2l</th>\n",
       "      <th>u2r</th>\n",
       "    </tr>\n",
       "    <tr>\n",
       "      <th>Actual attacks</th>\n",
       "      <th></th>\n",
       "      <th></th>\n",
       "      <th></th>\n",
       "      <th></th>\n",
       "      <th></th>\n",
       "    </tr>\n",
       "  </thead>\n",
       "  <tbody>\n",
       "    <tr>\n",
       "      <th>benign</th>\n",
       "      <td>12662</td>\n",
       "      <td>59</td>\n",
       "      <td>3</td>\n",
       "      <td>7779</td>\n",
       "      <td>1628</td>\n",
       "    </tr>\n",
       "    <tr>\n",
       "      <th>dos</th>\n",
       "      <td>1808</td>\n",
       "      <td>13095</td>\n",
       "      <td>23</td>\n",
       "      <td>313</td>\n",
       "      <td>0</td>\n",
       "    </tr>\n",
       "    <tr>\n",
       "      <th>probe</th>\n",
       "      <td>2800</td>\n",
       "      <td>124</td>\n",
       "      <td>680</td>\n",
       "      <td>189</td>\n",
       "      <td>68</td>\n",
       "    </tr>\n",
       "    <tr>\n",
       "      <th>r2l</th>\n",
       "      <td>1</td>\n",
       "      <td>0</td>\n",
       "      <td>0</td>\n",
       "      <td>169</td>\n",
       "      <td>155</td>\n",
       "    </tr>\n",
       "    <tr>\n",
       "      <th>u2r</th>\n",
       "      <td>1</td>\n",
       "      <td>0</td>\n",
       "      <td>0</td>\n",
       "      <td>2</td>\n",
       "      <td>13</td>\n",
       "    </tr>\n",
       "  </tbody>\n",
       "</table>\n",
       "</div>"
      ],
      "text/plain": [
       "Predicted attacks  benign    dos  probe   r2l   u2r\n",
       "Actual attacks                                     \n",
       "benign              12662     59      3  7779  1628\n",
       "dos                  1808  13095     23   313     0\n",
       "probe                2800    124    680   189    68\n",
       "r2l                     1      0      0   169   155\n",
       "u2r                     1      0      0     2    13"
      ]
     },
     "execution_count": 233,
     "metadata": {},
     "output_type": "execute_result"
    }
   ],
   "source": [
    "#Create a Gaussian Classifier\n",
    "clf_bayes_split = GaussianNB()\n",
    "\n",
    "# Train the model using the training sets\n",
    "clf_bayes_split.fit(x_train_split,y_train_split)\n",
    "\n",
    "y_pred_bayes_split=clf_bayes_split.predict(x_test_split)\n",
    "\n",
    "pd.crosstab(y_test_split, y_pred_bayes_split, rownames=['Actual attacks'], colnames=['Predicted attacks'])"
   ]
  },
  {
   "cell_type": "code",
   "execution_count": 234,
   "id": "c60a3a03",
   "metadata": {
    "scrolled": true
   },
   "outputs": [
    {
     "name": "stdout",
     "output_type": "stream",
     "text": [
      "***METRICS EVALUATING TEST SET***\n",
      "\n",
      "accuracy:  0.6412483264416299\n",
      "\n",
      "              precision    recall  f1-score   support\n",
      "\n",
      "      benign       0.73      0.57      0.64     22131\n",
      "         dos       0.99      0.86      0.92     15239\n",
      "         u2r       0.96      0.18      0.30      3861\n",
      "         r2l       0.02      0.52      0.04       325\n",
      "       probe       0.01      0.81      0.01        16\n",
      "\n",
      "    accuracy                           0.64     41572\n",
      "   macro avg       0.54      0.59      0.38     41572\n",
      "weighted avg       0.84      0.64      0.71     41572\n",
      "\n"
     ]
    }
   ],
   "source": [
    "print(\"***METRICS EVALUATING TEST SET***\")\n",
    "print()\n",
    "print(\"accuracy: \",clf_bayes_split.score(x_train_split, y_train_split))\n",
    "print()\n",
    "print(classification_report(y_test_split, y_pred_bayes_split, target_names=category, zero_division=0))"
   ]
  },
  {
   "cell_type": "markdown",
   "id": "14b8ed8b",
   "metadata": {},
   "source": [
    "# Pipeline with feature selection PCA and Random Forest Classificator"
   ]
  },
  {
   "cell_type": "code",
   "execution_count": 235,
   "id": "65d6afdd",
   "metadata": {
    "scrolled": true
   },
   "outputs": [
    {
     "name": "stdout",
     "output_type": "stream",
     "text": [
      "              precision    recall  f1-score   support\n",
      "\n",
      "      benign       0.65      0.97      0.78      9711\n",
      "         dos       0.96      0.76      0.85      7458\n",
      "         u2r       0.80      0.68      0.74      2423\n",
      "         r2l       1.00      0.00      0.00      2885\n",
      "       probe       0.00      0.00      0.00        67\n",
      "\n",
      "    accuracy                           0.74     22544\n",
      "   macro avg       0.68      0.48      0.47     22544\n",
      "weighted avg       0.81      0.74      0.70     22544\n",
      "\n"
     ]
    }
   ],
   "source": [
    "estimators = [('reduce_dim', PCA()), ('clf_rf_s', RandomForestClassifier(n_estimators=100, criterion = 'gini', random_state = 0))]\n",
    "pipe = Pipeline(estimators)\n",
    "pipe.fit(x_train,y_train)\n",
    "y_pred_s = pipe.predict(x_test)\n",
    "print(classification_report(y_test, y_pred_s, target_names=category, zero_division=0))"
   ]
  }
 ],
 "metadata": {
  "kernelspec": {
   "display_name": "Python 3 (ipykernel)",
   "language": "python",
   "name": "python3"
  },
  "language_info": {
   "codemirror_mode": {
    "name": "ipython",
    "version": 3
   },
   "file_extension": ".py",
   "mimetype": "text/x-python",
   "name": "python",
   "nbconvert_exporter": "python",
   "pygments_lexer": "ipython3",
   "version": "3.9.7"
  }
 },
 "nbformat": 4,
 "nbformat_minor": 5
}
